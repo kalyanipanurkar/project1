{
 "cells": [
  {
   "cell_type": "raw",
   "id": "df00431d",
   "metadata": {},
   "source": [
    "Numpy >>> abbrivtion for Numerical Python\n",
    "\n",
    "import numpy as np\n",
    "import numpy\n",
    "\n",
    "Numpy >> it is a base library in python that deals with numbers. It is used to perform numerous mathematical operations.\n",
    "\n",
    "A numpy array is a homogeneous data type which means it assigns one perticular kind of data types to the entire array.\n",
    "str >> complex >> float >> int  --- string has heighest priority.\n",
    "\n",
    "It is time efficient >> It is faster than list\n",
    "used for processing & structuring the data\n",
    "\n",
    "Number of operations can be perfomed on an array:\n",
    "    Probability\n",
    "    Logarithmic maths\n",
    "    Statastics\n",
    "    Linear Algebra\n",
    "    Geometry\n",
    "    Trignometry\n",
    "    Matrix \n",
    "    Random number generation"
   ]
  },
  {
   "cell_type": "code",
   "execution_count": 1,
   "id": "1479d592",
   "metadata": {},
   "outputs": [],
   "source": [
    "import numpy as np"
   ]
  },
  {
   "cell_type": "code",
   "execution_count": 2,
   "id": "def36eb0",
   "metadata": {
    "scrolled": true
   },
   "outputs": [
    {
     "data": {
      "text/plain": [
       "numpy.ndarray"
      ]
     },
     "execution_count": 2,
     "metadata": {},
     "output_type": "execute_result"
    }
   ],
   "source": [
    "array = np.array([2,3,4,5,6])\n",
    "type(array)"
   ]
  },
  {
   "cell_type": "markdown",
   "id": "d3975447",
   "metadata": {},
   "source": [
    "# ndim : to check the dimensions of an array"
   ]
  },
  {
   "cell_type": "code",
   "execution_count": 3,
   "id": "06c39c45",
   "metadata": {},
   "outputs": [
    {
     "data": {
      "text/plain": [
       "2"
      ]
     },
     "execution_count": 3,
     "metadata": {},
     "output_type": "execute_result"
    }
   ],
   "source": [
    "array = np.array([[2,3,4,5,6]])\n",
    "array.ndim"
   ]
  },
  {
   "cell_type": "code",
   "execution_count": 4,
   "id": "73f7728b",
   "metadata": {},
   "outputs": [
    {
     "data": {
      "text/plain": [
       "3"
      ]
     },
     "execution_count": 4,
     "metadata": {},
     "output_type": "execute_result"
    }
   ],
   "source": [
    "array = np.array([[[2,3],\n",
    "                   [5,6]],\n",
    "                  [[1,1],\n",
    "                   [1,1]]])\n",
    "array.ndim"
   ]
  },
  {
   "cell_type": "code",
   "execution_count": 5,
   "id": "c0da2daa",
   "metadata": {},
   "outputs": [
    {
     "data": {
      "text/plain": [
       "3"
      ]
     },
     "execution_count": 5,
     "metadata": {},
     "output_type": "execute_result"
    }
   ],
   "source": [
    "array = np.array([[[2,3],[5,6]],[[1,1],[1,1]]])\n",
    "array.ndim"
   ]
  },
  {
   "cell_type": "code",
   "execution_count": 6,
   "id": "8f7e8558",
   "metadata": {
    "scrolled": true
   },
   "outputs": [
    {
     "data": {
      "text/plain": [
       "0"
      ]
     },
     "execution_count": 6,
     "metadata": {},
     "output_type": "execute_result"
    }
   ],
   "source": [
    "array = np.array(2.3)  # 0 diemnsion array.\n",
    "array.ndim"
   ]
  },
  {
   "cell_type": "markdown",
   "id": "cc8ce8ff",
   "metadata": {},
   "source": [
    "# ndmin : converting lower dimensions into higher dimensions"
   ]
  },
  {
   "cell_type": "raw",
   "id": "e469ab17",
   "metadata": {},
   "source": [
    "Lower dimension array can be converted into heigher dimenson array but heigher dimension array cannot be converted into lower dimension array"
   ]
  },
  {
   "cell_type": "code",
   "execution_count": 7,
   "id": "71ef669d",
   "metadata": {},
   "outputs": [
    {
     "name": "stdout",
     "output_type": "stream",
     "text": [
      "[[[2.3]]]\n"
     ]
    },
    {
     "data": {
      "text/plain": [
       "3"
      ]
     },
     "execution_count": 7,
     "metadata": {},
     "output_type": "execute_result"
    }
   ],
   "source": [
    "array = np.array(2.3,ndmin=3)  # 0 dimesion array converted into 3 diemsion array\n",
    "print(array)\n",
    "array.ndim"
   ]
  },
  {
   "cell_type": "code",
   "execution_count": 8,
   "id": "3e6890fe",
   "metadata": {
    "scrolled": true
   },
   "outputs": [
    {
     "name": "stdout",
     "output_type": "stream",
     "text": [
      "[[[2 3]\n",
      "  [3 4]]]\n"
     ]
    },
    {
     "data": {
      "text/plain": [
       "3"
      ]
     },
     "execution_count": 8,
     "metadata": {},
     "output_type": "execute_result"
    }
   ],
   "source": [
    "array = np.array([[[2,3],[3,4]]],ndmin=1)    # 3 dimension array cannot be conveted into 1 dimension array.\n",
    "print(array) \n",
    "array.ndim"
   ]
  },
  {
   "cell_type": "markdown",
   "id": "29beca0d",
   "metadata": {},
   "source": [
    "# np.array() array constructor."
   ]
  },
  {
   "cell_type": "code",
   "execution_count": 9,
   "id": "54b4f3e0",
   "metadata": {},
   "outputs": [],
   "source": [
    "import numpy as np"
   ]
  },
  {
   "cell_type": "code",
   "execution_count": 10,
   "id": "57171215",
   "metadata": {
    "scrolled": true
   },
   "outputs": [
    {
     "name": "stdout",
     "output_type": "stream",
     "text": [
      "[2 3 4]\n"
     ]
    },
    {
     "data": {
      "text/plain": [
       "numpy.ndarray"
      ]
     },
     "execution_count": 10,
     "metadata": {},
     "output_type": "execute_result"
    }
   ],
   "source": [
    "# converting list to array\n",
    "\n",
    "l1=[2,3,4]\n",
    "arr=np.array(l1)\n",
    "print(arr)\n",
    "type(arr)"
   ]
  },
  {
   "cell_type": "code",
   "execution_count": 11,
   "id": "7c20f83e",
   "metadata": {
    "scrolled": true
   },
   "outputs": [
    {
     "name": "stdout",
     "output_type": "stream",
     "text": [
      "[2 3 4]\n"
     ]
    },
    {
     "data": {
      "text/plain": [
       "numpy.ndarray"
      ]
     },
     "execution_count": 11,
     "metadata": {},
     "output_type": "execute_result"
    }
   ],
   "source": [
    "# tuple to array\n",
    "\n",
    "t1=(2,3,4)                # t1 = 2,3,4 if no bracket is given by default it is in tuple format. \n",
    "arr=np.array(t1)\n",
    "print(arr)\n",
    "type(arr)"
   ]
  },
  {
   "cell_type": "code",
   "execution_count": 12,
   "id": "b89882ca",
   "metadata": {},
   "outputs": [
    {
     "name": "stdout",
     "output_type": "stream",
     "text": [
      "{2, 3, 4}\n"
     ]
    },
    {
     "data": {
      "text/plain": [
       "numpy.ndarray"
      ]
     },
     "execution_count": 12,
     "metadata": {},
     "output_type": "execute_result"
    }
   ],
   "source": [
    "# set to array\n",
    "\n",
    "set_1 = {2,3,4,4}\n",
    "a = np.array(set_1)\n",
    "print(a)\n",
    "type(a)"
   ]
  },
  {
   "cell_type": "code",
   "execution_count": 13,
   "id": "b79ad70c",
   "metadata": {
    "scrolled": true
   },
   "outputs": [
    {
     "name": "stdout",
     "output_type": "stream",
     "text": [
      "{'bhushan': 23, 'college': 'ambedkar'}\n"
     ]
    },
    {
     "data": {
      "text/plain": [
       "numpy.ndarray"
      ]
     },
     "execution_count": 13,
     "metadata": {},
     "output_type": "execute_result"
    }
   ],
   "source": [
    "# dictionary to array\n",
    "\n",
    "d1={'bhushan':23 , 'college': 'ambedkar'}\n",
    "a = np.array(d1)\n",
    "print(a)\n",
    "type(a)"
   ]
  },
  {
   "cell_type": "code",
   "execution_count": 14,
   "id": "e285f267",
   "metadata": {},
   "outputs": [
    {
     "name": "stdout",
     "output_type": "stream",
     "text": [
      "pratiksha\n"
     ]
    },
    {
     "data": {
      "text/plain": [
       "numpy.ndarray"
      ]
     },
     "execution_count": 14,
     "metadata": {},
     "output_type": "execute_result"
    }
   ],
   "source": [
    "# string to array\n",
    "\n",
    "s='pratiksha'\n",
    "a= np.array(s)\n",
    "print(a)\n",
    "type(a)"
   ]
  },
  {
   "cell_type": "markdown",
   "id": "4aeb5f5a",
   "metadata": {},
   "source": [
    "#  why is numpy called as homogeneous data type"
   ]
  },
  {
   "cell_type": "raw",
   "id": "a7b4d466",
   "metadata": {},
   "source": [
    "A numpy array is a homogeneous data type which means it assigns one perticular kind of data types to the entire array."
   ]
  },
  {
   "cell_type": "raw",
   "id": "3e8595b0",
   "metadata": {},
   "source": [
    "str >> complex >> float >> int\n",
    "\n",
    "Ex. if anyone item is string entire elements in array converted to string."
   ]
  },
  {
   "cell_type": "code",
   "execution_count": 15,
   "id": "eac0d977",
   "metadata": {
    "scrolled": true
   },
   "outputs": [
    {
     "name": "stdout",
     "output_type": "stream",
     "text": [
      "[2. 3. 5.]\n"
     ]
    }
   ],
   "source": [
    "array = np.array([2,3.0,5])    # all converted to float.\n",
    "print(array)"
   ]
  },
  {
   "cell_type": "code",
   "execution_count": 16,
   "id": "4f9d98e1",
   "metadata": {},
   "outputs": [
    {
     "name": "stdout",
     "output_type": "stream",
     "text": [
      "[2 3 5]\n"
     ]
    }
   ],
   "source": [
    "array = np.array([2,3,5])\n",
    "print(array)"
   ]
  },
  {
   "cell_type": "code",
   "execution_count": 17,
   "id": "476fd4dc",
   "metadata": {},
   "outputs": [
    {
     "name": "stdout",
     "output_type": "stream",
     "text": [
      "[2.+0.j 3.+0.j 3.+4.j]\n"
     ]
    }
   ],
   "source": [
    "array = np.array([2,3.0,3+4j])   # all items converted to complex numbers.\n",
    "print(array)"
   ]
  },
  {
   "cell_type": "code",
   "execution_count": 18,
   "id": "e1c80e68",
   "metadata": {
    "scrolled": true
   },
   "outputs": [
    {
     "name": "stdout",
     "output_type": "stream",
     "text": [
      "['2' '3.0' '(3+4j)' '3.5']\n"
     ]
    }
   ],
   "source": [
    "array = np.array([2,3.0,3+4j,'3.5']) # all converted to string\n",
    "print(array)"
   ]
  },
  {
   "cell_type": "markdown",
   "id": "cc26c082",
   "metadata": {},
   "source": [
    "# dtype : Assigning a single data type to an entire array"
   ]
  },
  {
   "cell_type": "code",
   "execution_count": 19,
   "id": "f97c9809",
   "metadata": {
    "scrolled": true
   },
   "outputs": [
    {
     "name": "stdout",
     "output_type": "stream",
     "text": [
      "[2 3 4]\n"
     ]
    },
    {
     "data": {
      "text/plain": [
       "array([2, 3, 4])"
      ]
     },
     "execution_count": 19,
     "metadata": {},
     "output_type": "execute_result"
    }
   ],
   "source": [
    "array = np.array([2.0,3,4.8],dtype='int')\n",
    "print(array)\n",
    "array"
   ]
  },
  {
   "cell_type": "code",
   "execution_count": 20,
   "id": "92cfdd59",
   "metadata": {},
   "outputs": [
    {
     "name": "stdout",
     "output_type": "stream",
     "text": [
      "[2. +0.j 3. +0.j 4.8+0.j]\n"
     ]
    }
   ],
   "source": [
    "arr = np.array([2,3,4.8],dtype='complex')\n",
    "print(arr)"
   ]
  },
  {
   "cell_type": "code",
   "execution_count": 21,
   "id": "7035e455",
   "metadata": {
    "scrolled": true
   },
   "outputs": [
    {
     "name": "stdout",
     "output_type": "stream",
     "text": [
      "['2' '3' '(4+3j)']\n"
     ]
    }
   ],
   "source": [
    "arr = np.array([2,3,4+3j],dtype='str')\n",
    "print(arr)"
   ]
  },
  {
   "cell_type": "code",
   "execution_count": 22,
   "id": "7faf46b1",
   "metadata": {},
   "outputs": [
    {
     "name": "stdout",
     "output_type": "stream",
     "text": [
      "[2 3.5 (4+8j) '6']\n",
      "<class 'int'>\n",
      "<class 'float'>\n",
      "<class 'complex'>\n",
      "<class 'str'>\n"
     ]
    }
   ],
   "source": [
    "# by using object as datatype , datatypes of each individual item is preserved.\n",
    "\n",
    "a = np.array([2,3.5,4+8j,'6'],dtype='object')\n",
    "print(a)\n",
    "print(type(a[0]))       \n",
    "print(type(a[1]))\n",
    "print(type(a[2]))\n",
    "print(type(a[3]))"
   ]
  },
  {
   "cell_type": "markdown",
   "id": "70e774bf",
   "metadata": {},
   "source": [
    "## pandas"
   ]
  },
  {
   "cell_type": "code",
   "execution_count": 23,
   "id": "ce65f583",
   "metadata": {},
   "outputs": [],
   "source": [
    "import pandas as pd"
   ]
  },
  {
   "cell_type": "code",
   "execution_count": 24,
   "id": "7a4f7a03",
   "metadata": {
    "scrolled": true
   },
   "outputs": [
    {
     "data": {
      "text/html": [
       "<div>\n",
       "<style scoped>\n",
       "    .dataframe tbody tr th:only-of-type {\n",
       "        vertical-align: middle;\n",
       "    }\n",
       "\n",
       "    .dataframe tbody tr th {\n",
       "        vertical-align: top;\n",
       "    }\n",
       "\n",
       "    .dataframe thead th {\n",
       "        text-align: right;\n",
       "    }\n",
       "</style>\n",
       "<table border=\"1\" class=\"dataframe\">\n",
       "  <thead>\n",
       "    <tr style=\"text-align: right;\">\n",
       "      <th></th>\n",
       "      <th>data types</th>\n",
       "    </tr>\n",
       "  </thead>\n",
       "  <tbody>\n",
       "    <tr>\n",
       "      <th>0</th>\n",
       "      <td>2.0+0.0j</td>\n",
       "    </tr>\n",
       "    <tr>\n",
       "      <th>1</th>\n",
       "      <td>3.5+0.0j</td>\n",
       "    </tr>\n",
       "    <tr>\n",
       "      <th>2</th>\n",
       "      <td>4.0+8.0j</td>\n",
       "    </tr>\n",
       "  </tbody>\n",
       "</table>\n",
       "</div>"
      ],
      "text/plain": [
       "   data types\n",
       "0    2.0+0.0j\n",
       "1    3.5+0.0j\n",
       "2    4.0+8.0j"
      ]
     },
     "execution_count": 24,
     "metadata": {},
     "output_type": "execute_result"
    }
   ],
   "source": [
    "a=np.array([2,3.5,4+8j])\n",
    "df = pd.DataFrame(a,columns=['data types'])\n",
    "df"
   ]
  },
  {
   "cell_type": "code",
   "execution_count": 25,
   "id": "4a120b36",
   "metadata": {},
   "outputs": [
    {
     "data": {
      "text/html": [
       "<div>\n",
       "<style scoped>\n",
       "    .dataframe tbody tr th:only-of-type {\n",
       "        vertical-align: middle;\n",
       "    }\n",
       "\n",
       "    .dataframe tbody tr th {\n",
       "        vertical-align: top;\n",
       "    }\n",
       "\n",
       "    .dataframe thead th {\n",
       "        text-align: right;\n",
       "    }\n",
       "</style>\n",
       "<table border=\"1\" class=\"dataframe\">\n",
       "  <thead>\n",
       "    <tr style=\"text-align: right;\">\n",
       "      <th></th>\n",
       "      <th>data types</th>\n",
       "    </tr>\n",
       "  </thead>\n",
       "  <tbody>\n",
       "    <tr>\n",
       "      <th>0</th>\n",
       "      <td>2</td>\n",
       "    </tr>\n",
       "    <tr>\n",
       "      <th>1</th>\n",
       "      <td>3.5</td>\n",
       "    </tr>\n",
       "    <tr>\n",
       "      <th>2</th>\n",
       "      <td>(4+8j)</td>\n",
       "    </tr>\n",
       "  </tbody>\n",
       "</table>\n",
       "</div>"
      ],
      "text/plain": [
       "  data types\n",
       "0          2\n",
       "1        3.5\n",
       "2     (4+8j)"
      ]
     },
     "execution_count": 25,
     "metadata": {},
     "output_type": "execute_result"
    }
   ],
   "source": [
    "a=np.array([2,3.5,4+8j],dtype='object')\n",
    "df = pd.DataFrame(a,columns=['data types'])\n",
    "df"
   ]
  },
  {
   "cell_type": "code",
   "execution_count": 31,
   "id": "6a54b48d",
   "metadata": {
    "scrolled": true
   },
   "outputs": [
    {
     "data": {
      "text/html": [
       "<div>\n",
       "<style scoped>\n",
       "    .dataframe tbody tr th:only-of-type {\n",
       "        vertical-align: middle;\n",
       "    }\n",
       "\n",
       "    .dataframe tbody tr th {\n",
       "        vertical-align: top;\n",
       "    }\n",
       "\n",
       "    .dataframe thead th {\n",
       "        text-align: right;\n",
       "    }\n",
       "</style>\n",
       "<table border=\"1\" class=\"dataframe\">\n",
       "  <thead>\n",
       "    <tr style=\"text-align: right;\">\n",
       "      <th></th>\n",
       "      <th>0</th>\n",
       "    </tr>\n",
       "  </thead>\n",
       "  <tbody>\n",
       "    <tr>\n",
       "      <th>0</th>\n",
       "      <td>2.0</td>\n",
       "    </tr>\n",
       "    <tr>\n",
       "      <th>1</th>\n",
       "      <td>3.5</td>\n",
       "    </tr>\n",
       "    <tr>\n",
       "      <th>2</th>\n",
       "      <td>4.0</td>\n",
       "    </tr>\n",
       "    <tr>\n",
       "      <th>3</th>\n",
       "      <td>5.0</td>\n",
       "    </tr>\n",
       "  </tbody>\n",
       "</table>\n",
       "</div>"
      ],
      "text/plain": [
       "     0\n",
       "0  2.0\n",
       "1  3.5\n",
       "2  4.0\n",
       "3  5.0"
      ]
     },
     "metadata": {},
     "output_type": "display_data"
    },
    {
     "name": "stdout",
     "output_type": "stream",
     "text": [
      "<class 'pandas.core.frame.DataFrame'>\n",
      "RangeIndex: 4 entries, 0 to 3\n",
      "Data columns (total 1 columns):\n",
      " #   Column  Non-Null Count  Dtype  \n",
      "---  ------  --------------  -----  \n",
      " 0   0       4 non-null      float64\n",
      "dtypes: float64(1)\n",
      "memory usage: 164.0 bytes\n"
     ]
    }
   ],
   "source": [
    "l1 = [2,3.5,4,5]\n",
    "\n",
    "df = pd.DataFrame(l1)\n",
    "display(df)\n",
    "df.info()"
   ]
  },
  {
   "cell_type": "code",
   "execution_count": 32,
   "id": "d193bbef",
   "metadata": {
    "scrolled": true
   },
   "outputs": [
    {
     "data": {
      "text/html": [
       "<div>\n",
       "<style scoped>\n",
       "    .dataframe tbody tr th:only-of-type {\n",
       "        vertical-align: middle;\n",
       "    }\n",
       "\n",
       "    .dataframe tbody tr th {\n",
       "        vertical-align: top;\n",
       "    }\n",
       "\n",
       "    .dataframe thead th {\n",
       "        text-align: right;\n",
       "    }\n",
       "</style>\n",
       "<table border=\"1\" class=\"dataframe\">\n",
       "  <thead>\n",
       "    <tr style=\"text-align: right;\">\n",
       "      <th></th>\n",
       "      <th>0</th>\n",
       "    </tr>\n",
       "  </thead>\n",
       "  <tbody>\n",
       "    <tr>\n",
       "      <th>0</th>\n",
       "      <td>4.0</td>\n",
       "    </tr>\n",
       "    <tr>\n",
       "      <th>1</th>\n",
       "      <td>5.5</td>\n",
       "    </tr>\n",
       "    <tr>\n",
       "      <th>2</th>\n",
       "      <td>6.0</td>\n",
       "    </tr>\n",
       "    <tr>\n",
       "      <th>3</th>\n",
       "      <td>7.0</td>\n",
       "    </tr>\n",
       "  </tbody>\n",
       "</table>\n",
       "</div>"
      ],
      "text/plain": [
       "     0\n",
       "0  4.0\n",
       "1  5.5\n",
       "2  6.0\n",
       "3  7.0"
      ]
     },
     "execution_count": 32,
     "metadata": {},
     "output_type": "execute_result"
    }
   ],
   "source": [
    "df = df + 2\n",
    "df"
   ]
  },
  {
   "cell_type": "code",
   "execution_count": 36,
   "id": "42c7f72f",
   "metadata": {},
   "outputs": [
    {
     "data": {
      "text/html": [
       "<div>\n",
       "<style scoped>\n",
       "    .dataframe tbody tr th:only-of-type {\n",
       "        vertical-align: middle;\n",
       "    }\n",
       "\n",
       "    .dataframe tbody tr th {\n",
       "        vertical-align: top;\n",
       "    }\n",
       "\n",
       "    .dataframe thead th {\n",
       "        text-align: right;\n",
       "    }\n",
       "</style>\n",
       "<table border=\"1\" class=\"dataframe\">\n",
       "  <thead>\n",
       "    <tr style=\"text-align: right;\">\n",
       "      <th></th>\n",
       "      <th>0</th>\n",
       "    </tr>\n",
       "  </thead>\n",
       "  <tbody>\n",
       "    <tr>\n",
       "      <th>0</th>\n",
       "      <td>2</td>\n",
       "    </tr>\n",
       "    <tr>\n",
       "      <th>1</th>\n",
       "      <td>3</td>\n",
       "    </tr>\n",
       "    <tr>\n",
       "      <th>2</th>\n",
       "      <td>4</td>\n",
       "    </tr>\n",
       "    <tr>\n",
       "      <th>3</th>\n",
       "      <td>5</td>\n",
       "    </tr>\n",
       "  </tbody>\n",
       "</table>\n",
       "</div>"
      ],
      "text/plain": [
       "   0\n",
       "0  2\n",
       "1  3\n",
       "2  4\n",
       "3  5"
      ]
     },
     "metadata": {},
     "output_type": "display_data"
    },
    {
     "name": "stdout",
     "output_type": "stream",
     "text": [
      "<class 'pandas.core.frame.DataFrame'>\n",
      "RangeIndex: 4 entries, 0 to 3\n",
      "Data columns (total 1 columns):\n",
      " #   Column  Non-Null Count  Dtype \n",
      "---  ------  --------------  ----- \n",
      " 0   0       4 non-null      object\n",
      "dtypes: object(1)\n",
      "memory usage: 164.0+ bytes\n"
     ]
    }
   ],
   "source": [
    "l1 = [2,3,4,'5']\n",
    "\n",
    "df1 = pd.DataFrame(l1)\n",
    "display(df1)\n",
    "df1.info()"
   ]
  },
  {
   "cell_type": "code",
   "execution_count": 34,
   "id": "b6900ac8",
   "metadata": {
    "scrolled": true
   },
   "outputs": [
    {
     "ename": "TypeError",
     "evalue": "can only concatenate str (not \"int\") to str",
     "output_type": "error",
     "traceback": [
      "\u001b[1;31m---------------------------------------------------------------------------\u001b[0m",
      "\u001b[1;31mTypeError\u001b[0m                                 Traceback (most recent call last)",
      "File \u001b[1;32m~\\miniconda3\\Lib\\site-packages\\pandas\\core\\ops\\array_ops.py:171\u001b[0m, in \u001b[0;36m_na_arithmetic_op\u001b[1;34m(left, right, op, is_cmp)\u001b[0m\n\u001b[0;32m    170\u001b[0m \u001b[38;5;28;01mtry\u001b[39;00m:\n\u001b[1;32m--> 171\u001b[0m     result \u001b[38;5;241m=\u001b[39m \u001b[43mfunc\u001b[49m\u001b[43m(\u001b[49m\u001b[43mleft\u001b[49m\u001b[43m,\u001b[49m\u001b[43m \u001b[49m\u001b[43mright\u001b[49m\u001b[43m)\u001b[49m\n\u001b[0;32m    172\u001b[0m \u001b[38;5;28;01mexcept\u001b[39;00m \u001b[38;5;167;01mTypeError\u001b[39;00m:\n",
      "File \u001b[1;32m~\\miniconda3\\Lib\\site-packages\\pandas\\core\\computation\\expressions.py:239\u001b[0m, in \u001b[0;36mevaluate\u001b[1;34m(op, a, b, use_numexpr)\u001b[0m\n\u001b[0;32m    237\u001b[0m     \u001b[38;5;28;01mif\u001b[39;00m use_numexpr:\n\u001b[0;32m    238\u001b[0m         \u001b[38;5;66;03m# error: \"None\" not callable\u001b[39;00m\n\u001b[1;32m--> 239\u001b[0m         \u001b[38;5;28;01mreturn\u001b[39;00m \u001b[43m_evaluate\u001b[49m\u001b[43m(\u001b[49m\u001b[43mop\u001b[49m\u001b[43m,\u001b[49m\u001b[43m \u001b[49m\u001b[43mop_str\u001b[49m\u001b[43m,\u001b[49m\u001b[43m \u001b[49m\u001b[43ma\u001b[49m\u001b[43m,\u001b[49m\u001b[43m \u001b[49m\u001b[43mb\u001b[49m\u001b[43m)\u001b[49m  \u001b[38;5;66;03m# type: ignore[misc]\u001b[39;00m\n\u001b[0;32m    240\u001b[0m \u001b[38;5;28;01mreturn\u001b[39;00m _evaluate_standard(op, op_str, a, b)\n",
      "File \u001b[1;32m~\\miniconda3\\Lib\\site-packages\\pandas\\core\\computation\\expressions.py:70\u001b[0m, in \u001b[0;36m_evaluate_standard\u001b[1;34m(op, op_str, a, b)\u001b[0m\n\u001b[0;32m     69\u001b[0m     _store_test_result(\u001b[38;5;28;01mFalse\u001b[39;00m)\n\u001b[1;32m---> 70\u001b[0m \u001b[38;5;28;01mreturn\u001b[39;00m \u001b[43mop\u001b[49m\u001b[43m(\u001b[49m\u001b[43ma\u001b[49m\u001b[43m,\u001b[49m\u001b[43m \u001b[49m\u001b[43mb\u001b[49m\u001b[43m)\u001b[49m\n",
      "\u001b[1;31mTypeError\u001b[0m: can only concatenate str (not \"int\") to str",
      "\nDuring handling of the above exception, another exception occurred:\n",
      "\u001b[1;31mTypeError\u001b[0m                                 Traceback (most recent call last)",
      "Cell \u001b[1;32mIn[34], line 1\u001b[0m\n\u001b[1;32m----> 1\u001b[0m df1 \u001b[38;5;241m=\u001b[39m \u001b[43mdf1\u001b[49m\u001b[38;5;241;43m+\u001b[39;49m\u001b[38;5;241;43m2\u001b[39;49m \n\u001b[0;32m      2\u001b[0m df1\n",
      "File \u001b[1;32m~\\miniconda3\\Lib\\site-packages\\pandas\\core\\ops\\common.py:81\u001b[0m, in \u001b[0;36m_unpack_zerodim_and_defer.<locals>.new_method\u001b[1;34m(self, other)\u001b[0m\n\u001b[0;32m     77\u001b[0m             \u001b[38;5;28;01mreturn\u001b[39;00m \u001b[38;5;28mNotImplemented\u001b[39m\n\u001b[0;32m     79\u001b[0m other \u001b[38;5;241m=\u001b[39m item_from_zerodim(other)\n\u001b[1;32m---> 81\u001b[0m \u001b[38;5;28;01mreturn\u001b[39;00m \u001b[43mmethod\u001b[49m\u001b[43m(\u001b[49m\u001b[38;5;28;43mself\u001b[39;49m\u001b[43m,\u001b[49m\u001b[43m \u001b[49m\u001b[43mother\u001b[49m\u001b[43m)\u001b[49m\n",
      "File \u001b[1;32m~\\miniconda3\\Lib\\site-packages\\pandas\\core\\arraylike.py:186\u001b[0m, in \u001b[0;36mOpsMixin.__add__\u001b[1;34m(self, other)\u001b[0m\n\u001b[0;32m     98\u001b[0m \u001b[38;5;129m@unpack_zerodim_and_defer\u001b[39m(\u001b[38;5;124m\"\u001b[39m\u001b[38;5;124m__add__\u001b[39m\u001b[38;5;124m\"\u001b[39m)\n\u001b[0;32m     99\u001b[0m \u001b[38;5;28;01mdef\u001b[39;00m \u001b[38;5;21m__add__\u001b[39m(\u001b[38;5;28mself\u001b[39m, other):\n\u001b[0;32m    100\u001b[0m \u001b[38;5;250m    \u001b[39m\u001b[38;5;124;03m\"\"\"\u001b[39;00m\n\u001b[0;32m    101\u001b[0m \u001b[38;5;124;03m    Get Addition of DataFrame and other, column-wise.\u001b[39;00m\n\u001b[0;32m    102\u001b[0m \n\u001b[1;32m   (...)\u001b[0m\n\u001b[0;32m    184\u001b[0m \u001b[38;5;124;03m    moose     3.0     NaN\u001b[39;00m\n\u001b[0;32m    185\u001b[0m \u001b[38;5;124;03m    \"\"\"\u001b[39;00m\n\u001b[1;32m--> 186\u001b[0m     \u001b[38;5;28;01mreturn\u001b[39;00m \u001b[38;5;28;43mself\u001b[39;49m\u001b[38;5;241;43m.\u001b[39;49m\u001b[43m_arith_method\u001b[49m\u001b[43m(\u001b[49m\u001b[43mother\u001b[49m\u001b[43m,\u001b[49m\u001b[43m \u001b[49m\u001b[43moperator\u001b[49m\u001b[38;5;241;43m.\u001b[39;49m\u001b[43madd\u001b[49m\u001b[43m)\u001b[49m\n",
      "File \u001b[1;32m~\\miniconda3\\Lib\\site-packages\\pandas\\core\\frame.py:7457\u001b[0m, in \u001b[0;36mDataFrame._arith_method\u001b[1;34m(self, other, op)\u001b[0m\n\u001b[0;32m   7453\u001b[0m other \u001b[38;5;241m=\u001b[39m ops\u001b[38;5;241m.\u001b[39mmaybe_prepare_scalar_for_op(other, (\u001b[38;5;28mself\u001b[39m\u001b[38;5;241m.\u001b[39mshape[axis],))\n\u001b[0;32m   7455\u001b[0m \u001b[38;5;28mself\u001b[39m, other \u001b[38;5;241m=\u001b[39m ops\u001b[38;5;241m.\u001b[39malign_method_FRAME(\u001b[38;5;28mself\u001b[39m, other, axis, flex\u001b[38;5;241m=\u001b[39m\u001b[38;5;28;01mTrue\u001b[39;00m, level\u001b[38;5;241m=\u001b[39m\u001b[38;5;28;01mNone\u001b[39;00m)\n\u001b[1;32m-> 7457\u001b[0m new_data \u001b[38;5;241m=\u001b[39m \u001b[38;5;28;43mself\u001b[39;49m\u001b[38;5;241;43m.\u001b[39;49m\u001b[43m_dispatch_frame_op\u001b[49m\u001b[43m(\u001b[49m\u001b[43mother\u001b[49m\u001b[43m,\u001b[49m\u001b[43m \u001b[49m\u001b[43mop\u001b[49m\u001b[43m,\u001b[49m\u001b[43m \u001b[49m\u001b[43maxis\u001b[49m\u001b[38;5;241;43m=\u001b[39;49m\u001b[43maxis\u001b[49m\u001b[43m)\u001b[49m\n\u001b[0;32m   7458\u001b[0m \u001b[38;5;28;01mreturn\u001b[39;00m \u001b[38;5;28mself\u001b[39m\u001b[38;5;241m.\u001b[39m_construct_result(new_data)\n",
      "File \u001b[1;32m~\\miniconda3\\Lib\\site-packages\\pandas\\core\\frame.py:7484\u001b[0m, in \u001b[0;36mDataFrame._dispatch_frame_op\u001b[1;34m(self, right, func, axis)\u001b[0m\n\u001b[0;32m   7481\u001b[0m \u001b[38;5;28;01mif\u001b[39;00m \u001b[38;5;129;01mnot\u001b[39;00m is_list_like(right):\n\u001b[0;32m   7482\u001b[0m     \u001b[38;5;66;03m# i.e. scalar, faster than checking np.ndim(right) == 0\u001b[39;00m\n\u001b[0;32m   7483\u001b[0m     \u001b[38;5;28;01mwith\u001b[39;00m np\u001b[38;5;241m.\u001b[39merrstate(\u001b[38;5;28mall\u001b[39m\u001b[38;5;241m=\u001b[39m\u001b[38;5;124m\"\u001b[39m\u001b[38;5;124mignore\u001b[39m\u001b[38;5;124m\"\u001b[39m):\n\u001b[1;32m-> 7484\u001b[0m         bm \u001b[38;5;241m=\u001b[39m \u001b[38;5;28;43mself\u001b[39;49m\u001b[38;5;241;43m.\u001b[39;49m\u001b[43m_mgr\u001b[49m\u001b[38;5;241;43m.\u001b[39;49m\u001b[43mapply\u001b[49m\u001b[43m(\u001b[49m\u001b[43marray_op\u001b[49m\u001b[43m,\u001b[49m\u001b[43m \u001b[49m\u001b[43mright\u001b[49m\u001b[38;5;241;43m=\u001b[39;49m\u001b[43mright\u001b[49m\u001b[43m)\u001b[49m\n\u001b[0;32m   7485\u001b[0m     \u001b[38;5;28;01mreturn\u001b[39;00m \u001b[38;5;28mself\u001b[39m\u001b[38;5;241m.\u001b[39m_constructor(bm)\n\u001b[0;32m   7487\u001b[0m \u001b[38;5;28;01melif\u001b[39;00m \u001b[38;5;28misinstance\u001b[39m(right, DataFrame):\n",
      "File \u001b[1;32m~\\miniconda3\\Lib\\site-packages\\pandas\\core\\internals\\managers.py:350\u001b[0m, in \u001b[0;36mBaseBlockManager.apply\u001b[1;34m(self, f, align_keys, **kwargs)\u001b[0m\n\u001b[0;32m    347\u001b[0m             kwargs[k] \u001b[38;5;241m=\u001b[39m obj[b\u001b[38;5;241m.\u001b[39mmgr_locs\u001b[38;5;241m.\u001b[39mindexer]\n\u001b[0;32m    349\u001b[0m \u001b[38;5;28;01mif\u001b[39;00m \u001b[38;5;28mcallable\u001b[39m(f):\n\u001b[1;32m--> 350\u001b[0m     applied \u001b[38;5;241m=\u001b[39m \u001b[43mb\u001b[49m\u001b[38;5;241;43m.\u001b[39;49m\u001b[43mapply\u001b[49m\u001b[43m(\u001b[49m\u001b[43mf\u001b[49m\u001b[43m,\u001b[49m\u001b[43m \u001b[49m\u001b[38;5;241;43m*\u001b[39;49m\u001b[38;5;241;43m*\u001b[39;49m\u001b[43mkwargs\u001b[49m\u001b[43m)\u001b[49m\n\u001b[0;32m    351\u001b[0m \u001b[38;5;28;01melse\u001b[39;00m:\n\u001b[0;32m    352\u001b[0m     applied \u001b[38;5;241m=\u001b[39m \u001b[38;5;28mgetattr\u001b[39m(b, f)(\u001b[38;5;241m*\u001b[39m\u001b[38;5;241m*\u001b[39mkwargs)\n",
      "File \u001b[1;32m~\\miniconda3\\Lib\\site-packages\\pandas\\core\\internals\\blocks.py:329\u001b[0m, in \u001b[0;36mBlock.apply\u001b[1;34m(self, func, **kwargs)\u001b[0m\n\u001b[0;32m    323\u001b[0m \u001b[38;5;129m@final\u001b[39m\n\u001b[0;32m    324\u001b[0m \u001b[38;5;28;01mdef\u001b[39;00m \u001b[38;5;21mapply\u001b[39m(\u001b[38;5;28mself\u001b[39m, func, \u001b[38;5;241m*\u001b[39m\u001b[38;5;241m*\u001b[39mkwargs) \u001b[38;5;241m-\u001b[39m\u001b[38;5;241m>\u001b[39m \u001b[38;5;28mlist\u001b[39m[Block]:\n\u001b[0;32m    325\u001b[0m \u001b[38;5;250m    \u001b[39m\u001b[38;5;124;03m\"\"\"\u001b[39;00m\n\u001b[0;32m    326\u001b[0m \u001b[38;5;124;03m    apply the function to my values; return a block if we are not\u001b[39;00m\n\u001b[0;32m    327\u001b[0m \u001b[38;5;124;03m    one\u001b[39;00m\n\u001b[0;32m    328\u001b[0m \u001b[38;5;124;03m    \"\"\"\u001b[39;00m\n\u001b[1;32m--> 329\u001b[0m     result \u001b[38;5;241m=\u001b[39m \u001b[43mfunc\u001b[49m\u001b[43m(\u001b[49m\u001b[38;5;28;43mself\u001b[39;49m\u001b[38;5;241;43m.\u001b[39;49m\u001b[43mvalues\u001b[49m\u001b[43m,\u001b[49m\u001b[43m \u001b[49m\u001b[38;5;241;43m*\u001b[39;49m\u001b[38;5;241;43m*\u001b[39;49m\u001b[43mkwargs\u001b[49m\u001b[43m)\u001b[49m\n\u001b[0;32m    331\u001b[0m     \u001b[38;5;28;01mreturn\u001b[39;00m \u001b[38;5;28mself\u001b[39m\u001b[38;5;241m.\u001b[39m_split_op_result(result)\n",
      "File \u001b[1;32m~\\miniconda3\\Lib\\site-packages\\pandas\\core\\ops\\array_ops.py:232\u001b[0m, in \u001b[0;36marithmetic_op\u001b[1;34m(left, right, op)\u001b[0m\n\u001b[0;32m    228\u001b[0m     _bool_arith_check(op, left, right)\n\u001b[0;32m    230\u001b[0m     \u001b[38;5;66;03m# error: Argument 1 to \"_na_arithmetic_op\" has incompatible type\u001b[39;00m\n\u001b[0;32m    231\u001b[0m     \u001b[38;5;66;03m# \"Union[ExtensionArray, ndarray[Any, Any]]\"; expected \"ndarray[Any, Any]\"\u001b[39;00m\n\u001b[1;32m--> 232\u001b[0m     res_values \u001b[38;5;241m=\u001b[39m \u001b[43m_na_arithmetic_op\u001b[49m\u001b[43m(\u001b[49m\u001b[43mleft\u001b[49m\u001b[43m,\u001b[49m\u001b[43m \u001b[49m\u001b[43mright\u001b[49m\u001b[43m,\u001b[49m\u001b[43m \u001b[49m\u001b[43mop\u001b[49m\u001b[43m)\u001b[49m  \u001b[38;5;66;03m# type: ignore[arg-type]\u001b[39;00m\n\u001b[0;32m    234\u001b[0m \u001b[38;5;28;01mreturn\u001b[39;00m res_values\n",
      "File \u001b[1;32m~\\miniconda3\\Lib\\site-packages\\pandas\\core\\ops\\array_ops.py:178\u001b[0m, in \u001b[0;36m_na_arithmetic_op\u001b[1;34m(left, right, op, is_cmp)\u001b[0m\n\u001b[0;32m    172\u001b[0m \u001b[38;5;28;01mexcept\u001b[39;00m \u001b[38;5;167;01mTypeError\u001b[39;00m:\n\u001b[0;32m    173\u001b[0m     \u001b[38;5;28;01mif\u001b[39;00m \u001b[38;5;129;01mnot\u001b[39;00m is_cmp \u001b[38;5;129;01mand\u001b[39;00m (is_object_dtype(left\u001b[38;5;241m.\u001b[39mdtype) \u001b[38;5;129;01mor\u001b[39;00m is_object_dtype(right)):\n\u001b[0;32m    174\u001b[0m         \u001b[38;5;66;03m# For object dtype, fallback to a masked operation (only operating\u001b[39;00m\n\u001b[0;32m    175\u001b[0m         \u001b[38;5;66;03m#  on the non-missing values)\u001b[39;00m\n\u001b[0;32m    176\u001b[0m         \u001b[38;5;66;03m# Don't do this for comparisons, as that will handle complex numbers\u001b[39;00m\n\u001b[0;32m    177\u001b[0m         \u001b[38;5;66;03m#  incorrectly, see GH#32047\u001b[39;00m\n\u001b[1;32m--> 178\u001b[0m         result \u001b[38;5;241m=\u001b[39m \u001b[43m_masked_arith_op\u001b[49m\u001b[43m(\u001b[49m\u001b[43mleft\u001b[49m\u001b[43m,\u001b[49m\u001b[43m \u001b[49m\u001b[43mright\u001b[49m\u001b[43m,\u001b[49m\u001b[43m \u001b[49m\u001b[43mop\u001b[49m\u001b[43m)\u001b[49m\n\u001b[0;32m    179\u001b[0m     \u001b[38;5;28;01melse\u001b[39;00m:\n\u001b[0;32m    180\u001b[0m         \u001b[38;5;28;01mraise\u001b[39;00m\n",
      "File \u001b[1;32m~\\miniconda3\\Lib\\site-packages\\pandas\\core\\ops\\array_ops.py:135\u001b[0m, in \u001b[0;36m_masked_arith_op\u001b[1;34m(x, y, op)\u001b[0m\n\u001b[0;32m    132\u001b[0m         mask \u001b[38;5;241m=\u001b[39m np\u001b[38;5;241m.\u001b[39mwhere(y \u001b[38;5;241m==\u001b[39m \u001b[38;5;241m1\u001b[39m, \u001b[38;5;28;01mFalse\u001b[39;00m, mask)\n\u001b[0;32m    134\u001b[0m     \u001b[38;5;28;01mif\u001b[39;00m mask\u001b[38;5;241m.\u001b[39many():\n\u001b[1;32m--> 135\u001b[0m         result[mask] \u001b[38;5;241m=\u001b[39m \u001b[43mop\u001b[49m\u001b[43m(\u001b[49m\u001b[43mxrav\u001b[49m\u001b[43m[\u001b[49m\u001b[43mmask\u001b[49m\u001b[43m]\u001b[49m\u001b[43m,\u001b[49m\u001b[43m \u001b[49m\u001b[43my\u001b[49m\u001b[43m)\u001b[49m\n\u001b[0;32m    137\u001b[0m np\u001b[38;5;241m.\u001b[39mputmask(result, \u001b[38;5;241m~\u001b[39mmask, np\u001b[38;5;241m.\u001b[39mnan)\n\u001b[0;32m    138\u001b[0m result \u001b[38;5;241m=\u001b[39m result\u001b[38;5;241m.\u001b[39mreshape(x\u001b[38;5;241m.\u001b[39mshape)  \u001b[38;5;66;03m# 2D compat\u001b[39;00m\n",
      "\u001b[1;31mTypeError\u001b[0m: can only concatenate str (not \"int\") to str"
     ]
    }
   ],
   "source": [
    "df1 = df1+2 # 5 is string type in l1 .\n",
    " df1          # evenif there is single item of datatype string in given array then we cannot perform artithmatic operations."
   ]
  },
  {
   "cell_type": "markdown",
   "id": "86164dc0",
   "metadata": {},
   "source": [
    "# indexing"
   ]
  },
  {
   "cell_type": "code",
   "execution_count": 37,
   "id": "d24f4b53",
   "metadata": {},
   "outputs": [],
   "source": [
    "import numpy as np"
   ]
  },
  {
   "cell_type": "code",
   "execution_count": 38,
   "id": "dd3d02be",
   "metadata": {},
   "outputs": [
    {
     "data": {
      "text/plain": [
       "array([5, 6, 7, 8])"
      ]
     },
     "execution_count": 38,
     "metadata": {},
     "output_type": "execute_result"
    }
   ],
   "source": [
    "array = np.array([[2,3,5,6],\n",
    "                  [5,6,7,8]])\n",
    "array[1]"
   ]
  },
  {
   "cell_type": "code",
   "execution_count": 39,
   "id": "984b3713",
   "metadata": {
    "scrolled": true
   },
   "outputs": [
    {
     "data": {
      "text/plain": [
       "7"
      ]
     },
     "execution_count": 39,
     "metadata": {},
     "output_type": "execute_result"
    }
   ],
   "source": [
    "array[1][2]"
   ]
  },
  {
   "cell_type": "code",
   "execution_count": 40,
   "id": "a699a397",
   "metadata": {
    "scrolled": true
   },
   "outputs": [
    {
     "data": {
      "text/plain": [
       "3"
      ]
     },
     "execution_count": 40,
     "metadata": {},
     "output_type": "execute_result"
    }
   ],
   "source": [
    "array = np.array([[[2,3,5,6],\n",
    "                   [5,6,7,8],\n",
    "                   [4,5,5,5]],\n",
    "                  [[8,8,9,0],\n",
    "                   [1,2,3,1],\n",
    "                   [2,2,3,1]]])\n",
    "array[1][2][-2]"
   ]
  },
  {
   "cell_type": "markdown",
   "id": "223df51b",
   "metadata": {},
   "source": [
    "# slicing"
   ]
  },
  {
   "cell_type": "raw",
   "id": "88e90c37",
   "metadata": {},
   "source": [
    "suppose we have 3d array a=np.array[[[2,3,4]]] then 3rd slicing i.e after 2nd comma (here 2:3) will do column slicing.\n",
    "a=[1:2,0:1,2:3] then 2:3 will do slicing for columns and 1:2,0:1 will do slicing for rows.\n",
    "a=[1][1:2,0:1]  --- 1:2 will do row slicing and 0:1 will do column slicing.\n",
    "a=[1:2,0:1] -- no column slicing is done because we have 3d array and pass only 2 slicing.\n",
    "\n",
    "\n",
    "suppose we have 2d array a=np.array[[2,3,4]]\n",
    "a=[1:2,0:1] -- 1:2 will do row slicing and 0:1 will do column slicing. "
   ]
  },
  {
   "cell_type": "code",
   "execution_count": 41,
   "id": "a62d27f0",
   "metadata": {},
   "outputs": [
    {
     "data": {
      "text/plain": [
       "array([[8, 9],\n",
       "       [2, 3]])"
      ]
     },
     "execution_count": 41,
     "metadata": {},
     "output_type": "execute_result"
    }
   ],
   "source": [
    "array = np.array([[[2,3,5,6],\n",
    "                   [5,6,7,8],\n",
    "                   [4,5,5,5]],\n",
    "                  [[8,8,9,0],\n",
    "                   [1,2,3,1],\n",
    "                   [2,2,3,1]]])\n",
    "# print(array[1])\n",
    "\n",
    "\n",
    "array[1][:2,1:3]  "
   ]
  },
  {
   "cell_type": "code",
   "execution_count": 42,
   "id": "020c3a15",
   "metadata": {
    "scrolled": true
   },
   "outputs": [
    {
     "data": {
      "text/plain": [
       "array([[[[5, 6],\n",
       "         [4, 5]]],\n",
       "\n",
       "\n",
       "       [[[5, 6],\n",
       "         [4, 5]]]])"
      ]
     },
     "execution_count": 42,
     "metadata": {},
     "output_type": "execute_result"
    }
   ],
   "source": [
    "import numpy as np\n",
    "\n",
    "array = np.array([[[[2,3,5,6],\n",
    "                    [5,6,7,8],\n",
    "                    [4,5,5,5]],\n",
    "                   [[8,8,9,0],\n",
    "                    [1,2,3,1],\n",
    "                    [2,2,3,1]]],\n",
    "                  \n",
    "                  [[[2,3,5,6],\n",
    "                    [5,6,7,8],\n",
    "                    [4,5,5,5]],\n",
    "                   [[8,8,9,0],\n",
    "                    [1,2,3,1],\n",
    "                    [2,2,3,1]]]])\n",
    "\n",
    "# array[:,:,1:,2:]  \n",
    "# array[:,:,1:2,2:]\n",
    "array[:,:1,1:,:2]  "
   ]
  },
  {
   "cell_type": "code",
   "execution_count": 43,
   "id": "d9363be7",
   "metadata": {},
   "outputs": [
    {
     "data": {
      "text/plain": [
       "array([[[[ 5,  6],\n",
       "         [ 4,  5]]],\n",
       "\n",
       "\n",
       "       [[[50, 60],\n",
       "         [40, 50]]]])"
      ]
     },
     "execution_count": 43,
     "metadata": {},
     "output_type": "execute_result"
    }
   ],
   "source": [
    "import numpy as np\n",
    "\n",
    "array = np.array([[[[2,3,5,6],\n",
    "                    [5,6,7,8],\n",
    "                    [4,5,5,5]],\n",
    "                   [[8,8,9,0],\n",
    "                    [1,2,3,1],\n",
    "                    [2,2,3,1]]],\n",
    "                  \n",
    "                  [[[20,30,50,60],\n",
    "                    [50,60,70,80],\n",
    "                    [40,50,50,50]],\n",
    "                   [[60,80,90,0],\n",
    "                    [10,20,30,10],\n",
    "                    [20,20,30,10]]]])\n",
    "\n",
    "# array[:,:,1:,2:]  \n",
    "# array[:,:,1:2,2:]\n",
    "array[:,:1,1:,:2]  "
   ]
  },
  {
   "cell_type": "markdown",
   "id": "7e4eda04",
   "metadata": {},
   "source": [
    "# Reshape"
   ]
  },
  {
   "cell_type": "raw",
   "id": "62c4e2ca",
   "metadata": {},
   "source": [
    "let arr is given array\n",
    "\n",
    "arr.reshape(rows,column)\n",
    "arr.reshape(no of matrix,rows,column)"
   ]
  },
  {
   "cell_type": "code",
   "execution_count": 44,
   "id": "b8bcc1ce",
   "metadata": {},
   "outputs": [
    {
     "data": {
      "text/plain": [
       "array([2, 3, 5, 7, 8, 9, 0, 1, 5, 2, 7, 2])"
      ]
     },
     "execution_count": 44,
     "metadata": {},
     "output_type": "execute_result"
    }
   ],
   "source": [
    "import numpy as np\n",
    "Array = np.array([2,3,5,7,8,9,0,1,5,2,7,2])\n",
    "Array"
   ]
  },
  {
   "cell_type": "code",
   "execution_count": 47,
   "id": "70ec02fd",
   "metadata": {},
   "outputs": [
    {
     "data": {
      "text/plain": [
       "array([[2, 3],\n",
       "       [5, 7],\n",
       "       [8, 9],\n",
       "       [0, 1],\n",
       "       [5, 2],\n",
       "       [7, 2]])"
      ]
     },
     "execution_count": 47,
     "metadata": {},
     "output_type": "execute_result"
    }
   ],
   "source": [
    "Array.reshape(12,1)\n",
    "Array.reshape(3,4)\n",
    "Array.reshape(4,3)\n",
    "Array.reshape(2,6)\n",
    "Array.reshape(6,2) # this final is executed.i.e 6 rows and 2 columns."
   ]
  },
  {
   "cell_type": "code",
   "execution_count": 48,
   "id": "1e957b56",
   "metadata": {
    "scrolled": true
   },
   "outputs": [
    {
     "data": {
      "text/plain": [
       "array([[[2, 3],\n",
       "        [5, 7]],\n",
       "\n",
       "       [[8, 9],\n",
       "        [0, 1]],\n",
       "\n",
       "       [[5, 2],\n",
       "        [7, 2]]])"
      ]
     },
     "execution_count": 48,
     "metadata": {},
     "output_type": "execute_result"
    }
   ],
   "source": [
    "Array.reshape(3,2,2)                 # arr.reshape(no of matrix,rows,column)"
   ]
  },
  {
   "cell_type": "markdown",
   "id": "6cf75b58",
   "metadata": {},
   "source": [
    "# converting an array to list"
   ]
  },
  {
   "cell_type": "raw",
   "id": "bc4c9fea",
   "metadata": {},
   "source": [
    "let arr is given array\n",
    "\n",
    "1) list(arr)\n",
    "2) arr.tolist()"
   ]
  },
  {
   "cell_type": "code",
   "execution_count": 52,
   "id": "c6e57973",
   "metadata": {},
   "outputs": [
    {
     "data": {
      "text/plain": [
       "[2, 3, 5, 7, 8, 9, 0, 1, 5, 2, 7, 2, [100, 200]]"
      ]
     },
     "execution_count": 52,
     "metadata": {},
     "output_type": "execute_result"
    }
   ],
   "source": [
    "arr = np.array([2,3,5,7,8,9,0,1,5,2,7,2])\n",
    "X = list(arr)\n",
    "\n",
    "X.append([100,200])\n",
    "X"
   ]
  },
  {
   "cell_type": "code",
   "execution_count": 50,
   "id": "d911ced8",
   "metadata": {},
   "outputs": [
    {
     "name": "stdout",
     "output_type": "stream",
     "text": [
      "[2, 4, 5, 6]\n"
     ]
    },
    {
     "data": {
      "text/plain": [
       "[2, 4, 5, 6, 100, 200]"
      ]
     },
     "execution_count": 50,
     "metadata": {},
     "output_type": "execute_result"
    }
   ],
   "source": [
    "arr = np.array([2,4,5,6])\n",
    "x = arr.tolist()\n",
    "print(x)\n",
    "\n",
    "x.extend([100,200])\n",
    "x"
   ]
  },
  {
   "cell_type": "code",
   "execution_count": 53,
   "id": "63abe162",
   "metadata": {
    "scrolled": true
   },
   "outputs": [
    {
     "name": "stdout",
     "output_type": "stream",
     "text": [
      "[[2 3 4 5]]\n",
      "[array([2, 3, 4, 5])]\n",
      "[array([2, 3, 4, 5]), 100]\n"
     ]
    }
   ],
   "source": [
    "import numpy as np\n",
    "\n",
    "arr = np.array([2,3,4,5])\n",
    "a = arr.reshape(1,4)\n",
    "print(a)                    # now arr is converted into 2d array       \n",
    "\n",
    "x = list(a)                 # 2d array converted into list\n",
    "print(x)\n",
    "\n",
    "x.append(100)       # 100 is append at 1st index and x(list) is at 0th index . when we append more than 1d array this happens \n",
    "print(x)"
   ]
  },
  {
   "cell_type": "markdown",
   "id": "8413dd94",
   "metadata": {},
   "source": [
    "## I want to add 100 in array list itself"
   ]
  },
  {
   "cell_type": "code",
   "execution_count": 54,
   "id": "9cfc8645",
   "metadata": {
    "scrolled": true
   },
   "outputs": [
    {
     "data": {
      "text/plain": [
       "array([[2, 3, 4, 5]])"
      ]
     },
     "execution_count": 54,
     "metadata": {},
     "output_type": "execute_result"
    }
   ],
   "source": [
    "a"
   ]
  },
  {
   "cell_type": "code",
   "execution_count": 55,
   "id": "1cfcf790",
   "metadata": {
    "scrolled": true
   },
   "outputs": [
    {
     "name": "stdout",
     "output_type": "stream",
     "text": [
      "[2, 3, 4, 5, 100, 200]\n"
     ]
    }
   ],
   "source": [
    "y = list(a[0])\n",
    "y.append(100)\n",
    "y.append(200)\n",
    "print(y)"
   ]
  },
  {
   "cell_type": "markdown",
   "id": "1a1c9c6e",
   "metadata": {},
   "source": [
    "## now i want to rehape y , y is in list format to reshape y we need to first convert it into array"
   ]
  },
  {
   "cell_type": "code",
   "execution_count": 56,
   "id": "bbff94e2",
   "metadata": {},
   "outputs": [
    {
     "data": {
      "text/plain": [
       "array([[  2,   3,   4],\n",
       "       [  5, 100, 200]])"
      ]
     },
     "execution_count": 56,
     "metadata": {},
     "output_type": "execute_result"
    }
   ],
   "source": [
    "import numpy as np\n",
    "z = np.array(y)\n",
    "z.reshape(2,3)"
   ]
  },
  {
   "cell_type": "markdown",
   "id": "5ff3b690",
   "metadata": {},
   "source": [
    "# Creating an empty array"
   ]
  },
  {
   "cell_type": "code",
   "execution_count": 57,
   "id": "ccf28ed0",
   "metadata": {
    "scrolled": true
   },
   "outputs": [
    {
     "data": {
      "text/plain": [
       "array([], dtype=float64)"
      ]
     },
     "execution_count": 57,
     "metadata": {},
     "output_type": "execute_result"
    }
   ],
   "source": [
    "arr = np.array([])\n",
    "arr"
   ]
  },
  {
   "cell_type": "markdown",
   "id": "1a7fb24d",
   "metadata": {},
   "source": [
    "# Creating an array or matrix of zeros"
   ]
  },
  {
   "cell_type": "raw",
   "id": "d0d942a2",
   "metadata": {},
   "source": [
    "used for padding"
   ]
  },
  {
   "cell_type": "code",
   "execution_count": 58,
   "id": "2307c057",
   "metadata": {},
   "outputs": [
    {
     "name": "stdout",
     "output_type": "stream",
     "text": [
      "[0. 0. 0. 0. 0.]\n"
     ]
    }
   ],
   "source": [
    "arr = np.zeros(5)\n",
    "print(arr)"
   ]
  },
  {
   "cell_type": "code",
   "execution_count": 59,
   "id": "87aaebad",
   "metadata": {},
   "outputs": [
    {
     "name": "stdout",
     "output_type": "stream",
     "text": [
      "[0 0 0 0 0]\n"
     ]
    }
   ],
   "source": [
    "import numpy as np\n",
    "\n",
    "arr = np.zeros(5,dtype='int')\n",
    "print(arr)"
   ]
  },
  {
   "cell_type": "code",
   "execution_count": 60,
   "id": "7df53c9c",
   "metadata": {},
   "outputs": [
    {
     "name": "stdout",
     "output_type": "stream",
     "text": [
      "[0 0 0 0 0]\n"
     ]
    }
   ],
   "source": [
    "arr = np.zeros(5,dtype='I')\n",
    "print(arr)"
   ]
  },
  {
   "cell_type": "code",
   "execution_count": 61,
   "id": "2073b1ed",
   "metadata": {},
   "outputs": [
    {
     "name": "stdout",
     "output_type": "stream",
     "text": [
      "[[0 0 0 0]\n",
      " [0 0 0 0]\n",
      " [0 0 0 0]\n",
      " [0 0 0 0]\n",
      " [0 0 0 0]]\n"
     ]
    }
   ],
   "source": [
    "arr = np.zeros((5,4),dtype='I')\n",
    "print(arr)"
   ]
  },
  {
   "cell_type": "markdown",
   "id": "de707832",
   "metadata": {},
   "source": [
    "# creating a matrix of ones"
   ]
  },
  {
   "cell_type": "code",
   "execution_count": 62,
   "id": "a411fb29",
   "metadata": {},
   "outputs": [
    {
     "name": "stdout",
     "output_type": "stream",
     "text": [
      "[[1 1 1 1]\n",
      " [1 1 1 1]\n",
      " [1 1 1 1]]\n"
     ]
    }
   ],
   "source": [
    "arr = np.ones((3,4),dtype='I')\n",
    "print(arr)"
   ]
  },
  {
   "cell_type": "code",
   "execution_count": 63,
   "id": "f1617fb6",
   "metadata": {},
   "outputs": [
    {
     "data": {
      "text/html": [
       "<div>\n",
       "<style scoped>\n",
       "    .dataframe tbody tr th:only-of-type {\n",
       "        vertical-align: middle;\n",
       "    }\n",
       "\n",
       "    .dataframe tbody tr th {\n",
       "        vertical-align: top;\n",
       "    }\n",
       "\n",
       "    .dataframe thead th {\n",
       "        text-align: right;\n",
       "    }\n",
       "</style>\n",
       "<table border=\"1\" class=\"dataframe\">\n",
       "  <thead>\n",
       "    <tr style=\"text-align: right;\">\n",
       "      <th></th>\n",
       "      <th>A</th>\n",
       "      <th>B</th>\n",
       "      <th>C</th>\n",
       "      <th>D</th>\n",
       "    </tr>\n",
       "  </thead>\n",
       "  <tbody>\n",
       "    <tr>\n",
       "      <th>0</th>\n",
       "      <td>1</td>\n",
       "      <td>1</td>\n",
       "      <td>1</td>\n",
       "      <td>1</td>\n",
       "    </tr>\n",
       "    <tr>\n",
       "      <th>1</th>\n",
       "      <td>1</td>\n",
       "      <td>1</td>\n",
       "      <td>1</td>\n",
       "      <td>1</td>\n",
       "    </tr>\n",
       "    <tr>\n",
       "      <th>2</th>\n",
       "      <td>1</td>\n",
       "      <td>1</td>\n",
       "      <td>1</td>\n",
       "      <td>1</td>\n",
       "    </tr>\n",
       "  </tbody>\n",
       "</table>\n",
       "</div>"
      ],
      "text/plain": [
       "   A  B  C  D\n",
       "0  1  1  1  1\n",
       "1  1  1  1  1\n",
       "2  1  1  1  1"
      ]
     },
     "execution_count": 63,
     "metadata": {},
     "output_type": "execute_result"
    }
   ],
   "source": [
    "import pandas as pd\n",
    "df = pd.DataFrame(arr,columns=list('ABCD'))\n",
    "df"
   ]
  },
  {
   "cell_type": "markdown",
   "id": "64f1a946",
   "metadata": {},
   "source": [
    " # creating a sequence of numbers using arange function"
   ]
  },
  {
   "cell_type": "code",
   "execution_count": 64,
   "id": "9aa8d23d",
   "metadata": {
    "scrolled": true
   },
   "outputs": [
    {
     "name": "stdout",
     "output_type": "stream",
     "text": [
      "[ 1  2  3  4  5  6  7  8  9 10 11 12 13 14 15 16 17 18 19]\n"
     ]
    }
   ],
   "source": [
    "arr = np.arange(1,20)\n",
    "print(arr)"
   ]
  },
  {
   "cell_type": "code",
   "execution_count": 65,
   "id": "8fd46760",
   "metadata": {},
   "outputs": [
    {
     "name": "stdout",
     "output_type": "stream",
     "text": [
      "[ 1  3  5  7  9 11 13 15 17 19]\n"
     ]
    }
   ],
   "source": [
    "arr=np.arange(1,20,2)\n",
    "print(arr)"
   ]
  },
  {
   "cell_type": "code",
   "execution_count": 66,
   "id": "4c7684a9",
   "metadata": {
    "scrolled": true
   },
   "outputs": [
    {
     "name": "stdout",
     "output_type": "stream",
     "text": [
      "[[20. 18. 16. 14. 12.]\n",
      " [10.  8.  6.  4.  2.]]\n"
     ]
    }
   ],
   "source": [
    "arr=np.arange(20,0,-2,dtype='float').reshape(2,5)\n",
    "print(arr)"
   ]
  },
  {
   "cell_type": "markdown",
   "id": "67573b38",
   "metadata": {},
   "source": [
    "# linspace() for creating linearly spaced values"
   ]
  },
  {
   "cell_type": "raw",
   "id": "535dc014",
   "metadata": {},
   "source": [
    "linspace(start,end,num=10,retstep=True)   # end is included here\n",
    "if retstep is True then it shows the step size(an interval between any 2 consecutive numbers)."
   ]
  },
  {
   "cell_type": "code",
   "execution_count": 2,
   "id": "162b3d08",
   "metadata": {
    "scrolled": true
   },
   "outputs": [
    {
     "name": "stdout",
     "output_type": "stream",
     "text": [
      "(array([ 0,  2,  4,  6,  8, 11], dtype=uint32), 2.2)\n"
     ]
    }
   ],
   "source": [
    "import numpy as np\n",
    "\n",
    "dummy_arr= np.linspace(0,11,num=6,dtype='I',retstep=True)  \n",
    "print(dummy_arr)"
   ]
  },
  {
   "cell_type": "code",
   "execution_count": 3,
   "id": "b3e2207f",
   "metadata": {},
   "outputs": [
    {
     "name": "stdout",
     "output_type": "stream",
     "text": [
      "[ 0.          1.05263158  2.10526316  3.15789474  4.21052632  5.26315789\n",
      "  6.31578947  7.36842105  8.42105263  9.47368421 10.52631579 11.57894737\n",
      " 12.63157895 13.68421053 14.73684211 15.78947368 16.84210526 17.89473684\n",
      " 18.94736842 20.        ]\n"
     ]
    }
   ],
   "source": [
    "dummy_arr = np.linspace(0,20,20)\n",
    "print(dummy_arr)"
   ]
  },
  {
   "cell_type": "code",
   "execution_count": 72,
   "id": "1bb67226",
   "metadata": {},
   "outputs": [
    {
     "name": "stdout",
     "output_type": "stream",
     "text": [
      "[ 0.  2.  4.  6.  8. 10. 12. 14. 16. 18. 20.]\n"
     ]
    }
   ],
   "source": [
    "dummy_arr = np.linspace(0,20,11)\n",
    "print(dummy_arr)"
   ]
  },
  {
   "cell_type": "code",
   "execution_count": 73,
   "id": "9107d526",
   "metadata": {
    "scrolled": true
   },
   "outputs": [
    {
     "name": "stdout",
     "output_type": "stream",
     "text": [
      "[ 0.          1.05263158  2.10526316  3.15789474  4.21052632  5.26315789\n",
      "  6.31578947  7.36842105  8.42105263  9.47368421 10.52631579 11.57894737\n",
      " 12.63157895 13.68421053 14.73684211 15.78947368 16.84210526 17.89473684\n",
      " 18.94736842 20.        ]\n"
     ]
    }
   ],
   "source": [
    "dummy_arr = np.linspace(0,20,20)\n",
    "print(dummy_arr)"
   ]
  },
  {
   "cell_type": "markdown",
   "id": "10ba522b",
   "metadata": {},
   "source": [
    "# Generating Random numbers\n"
   ]
  },
  {
   "cell_type": "code",
   "execution_count": 6,
   "id": "c7b7e050",
   "metadata": {},
   "outputs": [
    {
     "data": {
      "text/plain": [
       "0.9733422551938672"
      ]
     },
     "execution_count": 6,
     "metadata": {},
     "output_type": "execute_result"
    }
   ],
   "source": [
    "import random\n",
    "random.random()"
   ]
  },
  {
   "cell_type": "raw",
   "id": "cded2aa0",
   "metadata": {},
   "source": [
    "there are multiple functions to create random numbers\n",
    "\n",
    "rand()------ np.random.rand() ----- it will generate random values between 0-1 -- can take 2 positional arguments.\n",
    "random()---- np.random.random()---- it will generate random values between 0-1 -- takes at most 1 positional argument (reshape)\n",
    "ranf()  ---- np.random.ranf()------ it will generate random values between 0-1 -- takes at most 1 positional argument (reshape)\n",
    "randn() ---- np.random.randn()----- only this will give negative numbers aslo. -- can take 2 positional arguments.\n",
    "randint()--- np.random.randint()----- randit(start,end,size,dtype) -- IMP function\n",
    "\n",
    "only randint() function throws an error if we do not pass any arguement. Ex. random.randint() -- it throws an error\n",
    "all other functions gives any 1 random number between 0-1 if nothing is passed."
   ]
  },
  {
   "cell_type": "markdown",
   "id": "2c34e79c",
   "metadata": {},
   "source": [
    "##  Random.rand()"
   ]
  },
  {
   "cell_type": "code",
   "execution_count": 7,
   "id": "3772d51f",
   "metadata": {},
   "outputs": [
    {
     "data": {
      "text/plain": [
       "0.3570319929881386"
      ]
     },
     "execution_count": 7,
     "metadata": {},
     "output_type": "execute_result"
    }
   ],
   "source": [
    "some_nums = np.random.rand()\n",
    "some_nums"
   ]
  },
  {
   "cell_type": "code",
   "execution_count": 8,
   "id": "4a390695",
   "metadata": {},
   "outputs": [
    {
     "data": {
      "text/plain": [
       "array([0.84537196, 0.87446203, 0.16358855, 0.24684685, 0.68842028])"
      ]
     },
     "execution_count": 8,
     "metadata": {},
     "output_type": "execute_result"
    }
   ],
   "source": [
    "some_nums = np.random.rand(5)\n",
    "some_nums"
   ]
  },
  {
   "cell_type": "code",
   "execution_count": 9,
   "id": "34fc9fd5",
   "metadata": {},
   "outputs": [
    {
     "data": {
      "text/plain": [
       "array([[0.55292885, 0.66177441, 0.12865352],\n",
       "       [0.58680481, 0.3762828 , 0.2505749 ]])"
      ]
     },
     "execution_count": 9,
     "metadata": {},
     "output_type": "execute_result"
    }
   ],
   "source": [
    "some_nums = np.random.rand(2,3)\n",
    "some_nums"
   ]
  },
  {
   "cell_type": "markdown",
   "id": "14ed4a4d",
   "metadata": {},
   "source": [
    "## Random.random()"
   ]
  },
  {
   "cell_type": "code",
   "execution_count": 10,
   "id": "8d778f12",
   "metadata": {},
   "outputs": [
    {
     "data": {
      "text/plain": [
       "array([0.9920735 , 0.3756393 , 0.53124474, 0.01011116, 0.00258663])"
      ]
     },
     "execution_count": 10,
     "metadata": {},
     "output_type": "execute_result"
    }
   ],
   "source": [
    "np.random.random(5)"
   ]
  },
  {
   "cell_type": "code",
   "execution_count": 11,
   "id": "14849811",
   "metadata": {},
   "outputs": [
    {
     "ename": "TypeError",
     "evalue": "random() takes at most 1 positional argument (2 given)",
     "output_type": "error",
     "traceback": [
      "\u001b[1;31m---------------------------------------------------------------------------\u001b[0m",
      "\u001b[1;31mTypeError\u001b[0m                                 Traceback (most recent call last)",
      "Cell \u001b[1;32mIn[11], line 1\u001b[0m\n\u001b[1;32m----> 1\u001b[0m \u001b[43mnp\u001b[49m\u001b[38;5;241;43m.\u001b[39;49m\u001b[43mrandom\u001b[49m\u001b[38;5;241;43m.\u001b[39;49m\u001b[43mrandom\u001b[49m\u001b[43m(\u001b[49m\u001b[38;5;241;43m2\u001b[39;49m\u001b[43m,\u001b[49m\u001b[38;5;241;43m12\u001b[39;49m\u001b[43m)\u001b[49m\n",
      "File \u001b[1;32mmtrand.pyx:438\u001b[0m, in \u001b[0;36mnumpy.random.mtrand.RandomState.random\u001b[1;34m()\u001b[0m\n",
      "\u001b[1;31mTypeError\u001b[0m: random() takes at most 1 positional argument (2 given)"
     ]
    }
   ],
   "source": [
    "np.random.random(2,12)"
   ]
  },
  {
   "cell_type": "code",
   "execution_count": 12,
   "id": "c94cf3be",
   "metadata": {
    "scrolled": true
   },
   "outputs": [
    {
     "data": {
      "text/plain": [
       "array([[0.41335997, 0.1996841 , 0.63461746, 0.92728761, 0.89083767],\n",
       "       [0.07670332, 0.95652835, 0.56452687, 0.78161257, 0.88580031]])"
      ]
     },
     "execution_count": 12,
     "metadata": {},
     "output_type": "execute_result"
    }
   ],
   "source": [
    "np.random.random(10).reshape(2,5)"
   ]
  },
  {
   "cell_type": "markdown",
   "id": "ee45ba20",
   "metadata": {},
   "source": [
    "## random.randn()"
   ]
  },
  {
   "cell_type": "raw",
   "id": "e6d37e8e-2dba-49d1-a94f-f6d0453ff00f",
   "metadata": {},
   "source": [
    "It will generate the normally distributed numbers around (0,0) cordinates"
   ]
  },
  {
   "cell_type": "code",
   "execution_count": 14,
   "id": "958d8780",
   "metadata": {},
   "outputs": [
    {
     "data": {
      "text/plain": [
       "array([-0.53013733,  0.49933597, -0.06235048, -1.16076689, -0.72084176])"
      ]
     },
     "execution_count": 14,
     "metadata": {},
     "output_type": "execute_result"
    }
   ],
   "source": [
    "np.random.randn(5)"
   ]
  },
  {
   "cell_type": "code",
   "execution_count": 15,
   "id": "120899dc",
   "metadata": {},
   "outputs": [
    {
     "data": {
      "text/plain": [
       "array([[-2.06752683,  1.70369246],\n",
       "       [-1.88218564,  1.42886572]])"
      ]
     },
     "execution_count": 15,
     "metadata": {},
     "output_type": "execute_result"
    }
   ],
   "source": [
    "np.random.randn(2,2)"
   ]
  },
  {
   "cell_type": "markdown",
   "id": "b51e8f51",
   "metadata": {},
   "source": [
    "## random().randint()"
   ]
  },
  {
   "cell_type": "code",
   "execution_count": 18,
   "id": "45827e0f",
   "metadata": {},
   "outputs": [
    {
     "data": {
      "text/plain": [
       "array([13,  3,  2,  5, 19, 14,  5,  2,  2, 11])"
      ]
     },
     "execution_count": 18,
     "metadata": {},
     "output_type": "execute_result"
    }
   ],
   "source": [
    "np.random.randint(1,20,10)"
   ]
  },
  {
   "cell_type": "code",
   "execution_count": 20,
   "id": "88591b9f",
   "metadata": {},
   "outputs": [
    {
     "name": "stdout",
     "output_type": "stream",
     "text": [
      "[80 82 79 72 77 29 19 12 45 40  3  4 37 82 90]\n"
     ]
    }
   ],
   "source": [
    "a= np.random.randint(low=1,high=100,size=15,dtype='I')\n",
    "print(a)"
   ]
  },
  {
   "cell_type": "code",
   "execution_count": 22,
   "id": "c82c2b88",
   "metadata": {},
   "outputs": [
    {
     "data": {
      "text/plain": [
       "array([31, 71, 59, 98, 31, 39, 19, 71, 18, 91, 21,  8, 55,  8, 54, 38,  1,\n",
       "       41, 89, 31, 37,  6, 56, 73, 48])"
      ]
     },
     "execution_count": 22,
     "metadata": {},
     "output_type": "execute_result"
    }
   ],
   "source": [
    "ran_nums = np.random.randint(1,100,25)\n",
    "ran_nums"
   ]
  },
  {
   "cell_type": "markdown",
   "id": "c29819c1",
   "metadata": {},
   "source": [
    "## Ascending sort"
   ]
  },
  {
   "cell_type": "code",
   "execution_count": 23,
   "id": "8e407942",
   "metadata": {
    "scrolled": true
   },
   "outputs": [
    {
     "data": {
      "text/plain": [
       "array([ 1,  6,  8,  8, 18, 19, 21, 31, 31, 31, 37, 38, 39, 41, 48, 54, 55,\n",
       "       56, 59, 71, 71, 73, 89, 91, 98])"
      ]
     },
     "execution_count": 23,
     "metadata": {},
     "output_type": "execute_result"
    }
   ],
   "source": [
    "np.sort(ran_nums)"
   ]
  },
  {
   "cell_type": "markdown",
   "id": "7ebe02fa",
   "metadata": {},
   "source": [
    "## Descending sort"
   ]
  },
  {
   "cell_type": "code",
   "execution_count": 24,
   "id": "a393df61",
   "metadata": {},
   "outputs": [
    {
     "name": "stdout",
     "output_type": "stream",
     "text": [
      "[98, 91, 89, 73, 71, 71, 59, 56, 55, 54, 48, 41, 39, 38, 37, 31, 31, 31, 21, 19, 18, 8, 8, 6, 1]\n"
     ]
    }
   ],
   "source": [
    "sorted_ran_nums=sorted(ran_nums,reverse=True)\n",
    "print(sorted_ran_nums)"
   ]
  },
  {
   "cell_type": "code",
   "execution_count": 25,
   "id": "88968a51",
   "metadata": {},
   "outputs": [
    {
     "data": {
      "text/plain": [
       "array([98, 91, 89, 73, 71, 71, 59, 56, 55, 54, 48, 41, 39, 38, 37, 31, 31,\n",
       "       31, 21, 19, 18,  8,  8,  6,  1])"
      ]
     },
     "execution_count": 25,
     "metadata": {},
     "output_type": "execute_result"
    }
   ],
   "source": [
    "np.sort(ran_nums)[::-1]"
   ]
  },
  {
   "cell_type": "code",
   "execution_count": null,
   "id": "ce35638b",
   "metadata": {},
   "outputs": [],
   "source": [
    "for i in range(len(ran_nums)):\n",
    "    for j in range(i+1,len(ran_nums)):\n",
    "        if ran_nums[i]<ran_nums[j]:\n",
    "            ran_nums[i],ran_nums[j]=ran_nums[j],ran_nums[i]\n",
    "print(ran_nums)"
   ]
  },
  {
   "cell_type": "markdown",
   "id": "3de0c66d",
   "metadata": {},
   "source": [
    "## sorting of matrix"
   ]
  },
  {
   "cell_type": "code",
   "execution_count": 26,
   "id": "c2b7b866",
   "metadata": {},
   "outputs": [
    {
     "data": {
      "text/plain": [
       "array([0, 2, 3])"
      ]
     },
     "execution_count": 26,
     "metadata": {},
     "output_type": "execute_result"
    }
   ],
   "source": [
    "np.sort([2,3,0])"
   ]
  },
  {
   "cell_type": "code",
   "execution_count": 27,
   "id": "3a31b618",
   "metadata": {},
   "outputs": [
    {
     "data": {
      "text/plain": [
       "array([0, 2, 3])"
      ]
     },
     "execution_count": 27,
     "metadata": {},
     "output_type": "execute_result"
    }
   ],
   "source": [
    "np.sort([2,3,0],axis=-1)  # by default axis is -1. you cannot use axis=1 here"
   ]
  },
  {
   "cell_type": "markdown",
   "id": "74b58177",
   "metadata": {},
   "source": [
    "### sorting row wise ( axis = 1 or -1 )"
   ]
  },
  {
   "cell_type": "code",
   "execution_count": 28,
   "id": "6f78125a",
   "metadata": {},
   "outputs": [
    {
     "data": {
      "text/plain": [
       "array([[0, 2, 3],\n",
       "       [5, 7, 8]])"
      ]
     },
     "execution_count": 28,
     "metadata": {},
     "output_type": "execute_result"
    }
   ],
   "source": [
    "np.sort([[2,3,0],\n",
    "         [7,5,8]],axis=1)"
   ]
  },
  {
   "cell_type": "code",
   "execution_count": 29,
   "id": "9fd509ae",
   "metadata": {
    "scrolled": true
   },
   "outputs": [
    {
     "data": {
      "text/plain": [
       "array([[0, 2, 3],\n",
       "       [5, 7, 8]])"
      ]
     },
     "execution_count": 29,
     "metadata": {},
     "output_type": "execute_result"
    }
   ],
   "source": [
    "np.sort([[2,3,0],                     \n",
    "         [7,5,8]],axis=-1)       "
   ]
  },
  {
   "cell_type": "markdown",
   "id": "2a54c576",
   "metadata": {},
   "source": [
    "# WAP to print all items from max number in list"
   ]
  },
  {
   "cell_type": "code",
   "execution_count": 31,
   "id": "5fc5f0ef",
   "metadata": {},
   "outputs": [
    {
     "name": "stdout",
     "output_type": "stream",
     "text": [
      "17 2 5 7 "
     ]
    }
   ],
   "source": [
    "x = [16,17,2,5,7]\n",
    "\n",
    "x= np.array(x)\n",
    "y = x.argmax()  # argmax() gives index no of max number.\n",
    "\n",
    "for i in range(y,len(x)):\n",
    "    print(x[i],end=' ')"
   ]
  },
  {
   "cell_type": "markdown",
   "id": "697bb095",
   "metadata": {},
   "source": [
    "# replacing any item in any array using indexing"
   ]
  },
  {
   "cell_type": "code",
   "execution_count": 32,
   "id": "ca58e88e",
   "metadata": {},
   "outputs": [
    {
     "data": {
      "text/plain": [
       "array([ 16, 100,   2,   5,   7])"
      ]
     },
     "execution_count": 32,
     "metadata": {},
     "output_type": "execute_result"
    }
   ],
   "source": [
    "array = np.array([16,17,2,5,7])\n",
    "array[1]=100\n",
    "array"
   ]
  },
  {
   "cell_type": "code",
   "execution_count": 33,
   "id": "fa3a4b10",
   "metadata": {},
   "outputs": [
    {
     "data": {
      "text/plain": [
       "array([[100,  16,  17],\n",
       "       [  2,   5,   3],\n",
       "       [  7,   0,   8]])"
      ]
     },
     "execution_count": 33,
     "metadata": {},
     "output_type": "execute_result"
    }
   ],
   "source": [
    "array = np.array([[21,16,17],\n",
    "                  [2,5,3],\n",
    "                  [7,0,8]])\n",
    "array[0][0]=100\n",
    "array"
   ]
  },
  {
   "cell_type": "code",
   "execution_count": 34,
   "id": "e316acfc",
   "metadata": {},
   "outputs": [
    {
     "data": {
      "text/plain": [
       "array([[100, 200,  17],\n",
       "       [300, 400,   3],\n",
       "       [  7,   0,   8]])"
      ]
     },
     "execution_count": 34,
     "metadata": {},
     "output_type": "execute_result"
    }
   ],
   "source": [
    "array = np.array([[21,16,17],\n",
    "                  [2,5,3],\n",
    "                  [7,0,8]])\n",
    "\n",
    "array[0:2,0:2]=[[100,200],[300,400]]\n",
    "array"
   ]
  },
  {
   "cell_type": "markdown",
   "id": "c9e19b19",
   "metadata": {},
   "source": [
    "# Inserting item into Array"
   ]
  },
  {
   "cell_type": "raw",
   "id": "defe1e40",
   "metadata": {},
   "source": [
    "inserts item at any specific index into the array\n",
    "\n",
    "Syntax:\n",
    "np.insert(array_name,index,value)"
   ]
  },
  {
   "cell_type": "code",
   "execution_count": 44,
   "id": "17f68913",
   "metadata": {},
   "outputs": [
    {
     "name": "stdout",
     "output_type": "stream",
     "text": [
      "[ 16 100  17   2   5   7]\n",
      "\n",
      "[ 16  17   2   5 100   7]\n",
      "\n",
      "[ 16  17   2   5   7 100]\n",
      "\n"
     ]
    },
    {
     "ename": "IndexError",
     "evalue": "index 6 is out of bounds for axis 0 with size 5",
     "output_type": "error",
     "traceback": [
      "\u001b[1;31m---------------------------------------------------------------------------\u001b[0m",
      "\u001b[1;31mIndexError\u001b[0m                                Traceback (most recent call last)",
      "Cell \u001b[1;32mIn[44], line 8\u001b[0m\n\u001b[0;32m      6\u001b[0m \u001b[38;5;28mprint\u001b[39m(np\u001b[38;5;241m.\u001b[39minsert(a,\u001b[38;5;28mlen\u001b[39m(a),\u001b[38;5;241m100\u001b[39m))\n\u001b[0;32m      7\u001b[0m \u001b[38;5;28mprint\u001b[39m()\n\u001b[1;32m----> 8\u001b[0m \u001b[38;5;28mprint\u001b[39m(\u001b[43mnp\u001b[49m\u001b[38;5;241;43m.\u001b[39;49m\u001b[43minsert\u001b[49m\u001b[43m(\u001b[49m\u001b[43ma\u001b[49m\u001b[43m,\u001b[49m\u001b[38;5;241;43m6\u001b[39;49m\u001b[43m,\u001b[49m\u001b[38;5;241;43m100\u001b[39;49m\u001b[43m)\u001b[49m)\n",
      "File \u001b[1;32m~\\miniconda3\\Lib\\site-packages\\numpy\\lib\\function_base.py:5505\u001b[0m, in \u001b[0;36minsert\u001b[1;34m(arr, obj, values, axis)\u001b[0m\n\u001b[0;32m   5503\u001b[0m index \u001b[38;5;241m=\u001b[39m indices\u001b[38;5;241m.\u001b[39mitem()\n\u001b[0;32m   5504\u001b[0m \u001b[38;5;28;01mif\u001b[39;00m index \u001b[38;5;241m<\u001b[39m \u001b[38;5;241m-\u001b[39mN \u001b[38;5;129;01mor\u001b[39;00m index \u001b[38;5;241m>\u001b[39m N:\n\u001b[1;32m-> 5505\u001b[0m     \u001b[38;5;28;01mraise\u001b[39;00m \u001b[38;5;167;01mIndexError\u001b[39;00m(\u001b[38;5;124mf\u001b[39m\u001b[38;5;124m\"\u001b[39m\u001b[38;5;124mindex \u001b[39m\u001b[38;5;132;01m{\u001b[39;00mobj\u001b[38;5;132;01m}\u001b[39;00m\u001b[38;5;124m is out of bounds for axis \u001b[39m\u001b[38;5;132;01m{\u001b[39;00maxis\u001b[38;5;132;01m}\u001b[39;00m\u001b[38;5;124m \u001b[39m\u001b[38;5;124m\"\u001b[39m\n\u001b[0;32m   5506\u001b[0m                      \u001b[38;5;124mf\u001b[39m\u001b[38;5;124m\"\u001b[39m\u001b[38;5;124mwith size \u001b[39m\u001b[38;5;132;01m{\u001b[39;00mN\u001b[38;5;132;01m}\u001b[39;00m\u001b[38;5;124m\"\u001b[39m)\n\u001b[0;32m   5507\u001b[0m \u001b[38;5;28;01mif\u001b[39;00m (index \u001b[38;5;241m<\u001b[39m \u001b[38;5;241m0\u001b[39m):\n\u001b[0;32m   5508\u001b[0m     index \u001b[38;5;241m+\u001b[39m\u001b[38;5;241m=\u001b[39m N\n",
      "\u001b[1;31mIndexError\u001b[0m: index 6 is out of bounds for axis 0 with size 5"
     ]
    }
   ],
   "source": [
    "a = np.array([16,17,2,5,7])\n",
    "print(np.insert(a,1,100))\n",
    "print()\n",
    "print(np.insert(a,-1,100))\n",
    "print()\n",
    "print(np.insert(a,len(a),100))\n",
    "print()\n",
    "print(np.insert(a,6,100))"
   ]
  },
  {
   "cell_type": "code",
   "execution_count": 45,
   "id": "b394f82e",
   "metadata": {
    "scrolled": true
   },
   "outputs": [
    {
     "name": "stdout",
     "output_type": "stream",
     "text": [
      "[100  21  16  17   2   5   3   7   0   8]\n"
     ]
    }
   ],
   "source": [
    "a = np.array([[21,16,17],\n",
    "                  [2,5,3],\n",
    "                  [7,0,8]])\n",
    "print(np.insert(a,[0][0],100))"
   ]
  },
  {
   "cell_type": "markdown",
   "id": "255b47d4",
   "metadata": {},
   "source": [
    "# Append()"
   ]
  },
  {
   "cell_type": "raw",
   "id": "6dc5504b",
   "metadata": {},
   "source": [
    "Appends the values at the end of the array"
   ]
  },
  {
   "cell_type": "code",
   "execution_count": 46,
   "id": "d7a56456",
   "metadata": {},
   "outputs": [
    {
     "data": {
      "text/plain": [
       "array([5, 6, 7, 8])"
      ]
     },
     "execution_count": 46,
     "metadata": {},
     "output_type": "execute_result"
    }
   ],
   "source": [
    "a = np.array([5,6,7,8])\n",
    "a"
   ]
  },
  {
   "cell_type": "code",
   "execution_count": 47,
   "id": "150eb533",
   "metadata": {},
   "outputs": [
    {
     "data": {
      "text/plain": [
       "array([ 5,  6,  7,  8, 10])"
      ]
     },
     "execution_count": 47,
     "metadata": {},
     "output_type": "execute_result"
    }
   ],
   "source": [
    "np.append(a,10)"
   ]
  },
  {
   "cell_type": "code",
   "execution_count": 48,
   "id": "d273aa69",
   "metadata": {},
   "outputs": [
    {
     "name": "stdout",
     "output_type": "stream",
     "text": [
      "[ 5  6  7  8 10 20]\n",
      "[ 5  6  7  8 10 20]\n"
     ]
    }
   ],
   "source": [
    "print(np.append(a,(10,20)))\n",
    "print(np.append(a,[10,20]))"
   ]
  },
  {
   "cell_type": "code",
   "execution_count": 49,
   "id": "bec2e5a5",
   "metadata": {},
   "outputs": [
    {
     "data": {
      "text/plain": [
       "array([2, 3, 4, 5, 3, 4])"
      ]
     },
     "execution_count": 49,
     "metadata": {},
     "output_type": "execute_result"
    }
   ],
   "source": [
    "array1 = np.array([2,3,4])\n",
    "array2 = np.array([5,3,4])\n",
    "\n",
    "array3 = np.append(array1,array2)\n",
    "array3"
   ]
  },
  {
   "cell_type": "code",
   "execution_count": 50,
   "id": "55c32836",
   "metadata": {},
   "outputs": [
    {
     "data": {
      "text/plain": [
       "array([2, 3, 4, 5, 6, 7, 5, 3, 4])"
      ]
     },
     "execution_count": 50,
     "metadata": {},
     "output_type": "execute_result"
    }
   ],
   "source": [
    "array1 = np.array([[2,3,4],\n",
    "                   [5,6,7]])\n",
    "\n",
    "array2 = np.array([5,3,4])\n",
    "\n",
    "np.append(array1,array2)"
   ]
  },
  {
   "cell_type": "markdown",
   "id": "6d19dd0a",
   "metadata": {},
   "source": [
    "## Appending row wise in matrix"
   ]
  },
  {
   "cell_type": "raw",
   "id": "52ba2b3e",
   "metadata": {},
   "source": [
    "# we are are appending rows then the number of columns has to be exactly same.\n",
    "# Axis has to be set to 0 for row appending"
   ]
  },
  {
   "cell_type": "code",
   "execution_count": 53,
   "id": "e0157a54",
   "metadata": {},
   "outputs": [
    {
     "data": {
      "text/plain": [
       "array([[2, 3, 4],\n",
       "       [5, 6, 7],\n",
       "       [5, 3, 2]])"
      ]
     },
     "execution_count": 53,
     "metadata": {},
     "output_type": "execute_result"
    }
   ],
   "source": [
    "array1 = np.array([[2,3,4],\n",
    "                   [5,6,7]])\n",
    "\n",
    "array2 = np.array([[5,3,2]])   # 3 columns must because array1 has 3 columns\n",
    "\n",
    "np.append(array1,array2,axis=0)"
   ]
  },
  {
   "cell_type": "code",
   "execution_count": 54,
   "id": "9105aa01",
   "metadata": {},
   "outputs": [
    {
     "data": {
      "text/plain": [
       "array([[2, 3, 4],\n",
       "       [5, 6, 7],\n",
       "       [5, 3, 4],\n",
       "       [0, 0, 0]])"
      ]
     },
     "execution_count": 54,
     "metadata": {},
     "output_type": "execute_result"
    }
   ],
   "source": [
    "array1 = np.array([[2,3,4],\n",
    "                   [5,6,7]])\n",
    "\n",
    "array2 = np.array([[5,3,4],\n",
    "                   [0,0,0]])\n",
    "\n",
    "np.append(array1,array2,axis=0)"
   ]
  },
  {
   "cell_type": "markdown",
   "id": "5c4aaa97",
   "metadata": {},
   "source": [
    "## Appending column wise in matrix"
   ]
  },
  {
   "cell_type": "raw",
   "id": "44663655",
   "metadata": {},
   "source": [
    "# if we are appending columns in the matrix then no. of rows has to be same\n",
    "# Axis has to be set to 1 for column appending"
   ]
  },
  {
   "cell_type": "code",
   "execution_count": 55,
   "id": "d026cc06",
   "metadata": {},
   "outputs": [
    {
     "data": {
      "text/plain": [
       "array([[2, 3, 4, 5],\n",
       "       [5, 6, 7, 0]])"
      ]
     },
     "execution_count": 55,
     "metadata": {},
     "output_type": "execute_result"
    }
   ],
   "source": [
    "array1 = np.array([[2,3,4],\n",
    "                   [5,6,7]])\n",
    "\n",
    "array2 = np.array([[5],\n",
    "                   [0]])\n",
    "\n",
    "np.append(array1,array2,axis=1)"
   ]
  },
  {
   "cell_type": "markdown",
   "id": "e413b5a4",
   "metadata": {},
   "source": [
    "# Concatenate() arrays"
   ]
  },
  {
   "cell_type": "markdown",
   "id": "ecea476d",
   "metadata": {},
   "source": [
    "## concatenates the arrays alongside the axis"
   ]
  },
  {
   "cell_type": "code",
   "execution_count": 56,
   "id": "acc98078",
   "metadata": {},
   "outputs": [
    {
     "data": {
      "text/plain": [
       "array([2, 3, 4, 5, 3, 4, 5, 3, 9])"
      ]
     },
     "execution_count": 56,
     "metadata": {},
     "output_type": "execute_result"
    }
   ],
   "source": [
    "array1 = np.array([2,3,4])\n",
    "array2 = np.array([5,3,4])\n",
    "array3 = np.array([5,3,9])\n",
    "\n",
    "final_array = np.concatenate([array1,array2,array3])  # by using append we can contatinate max 2 arrays!\n",
    "final_array"
   ]
  },
  {
   "cell_type": "code",
   "execution_count": 57,
   "id": "a9567d4b",
   "metadata": {},
   "outputs": [
    {
     "data": {
      "text/plain": [
       "array([[2, 3, 4],\n",
       "       [5, 3, 4],\n",
       "       [5, 3, 9]])"
      ]
     },
     "execution_count": 57,
     "metadata": {},
     "output_type": "execute_result"
    }
   ],
   "source": [
    "array1 = np.array([2,3,4])\n",
    "array2 = np.array([5,3,4])\n",
    "array3 = np.array([5,3,9])\n",
    "\n",
    "\n",
    "final_array = np.concatenate([array1,array2,array3])\n",
    "final_array.reshape(3,3)"
   ]
  },
  {
   "cell_type": "markdown",
   "id": "27a1963c",
   "metadata": {},
   "source": [
    "## Concatenation along rows in matrix"
   ]
  },
  {
   "cell_type": "raw",
   "id": "e8ac35a2",
   "metadata": {},
   "source": [
    "# if we are concatenating rows in the matrix then no. of columns has to be same\n",
    "# Axis has to be set to 0 for column appending"
   ]
  },
  {
   "cell_type": "code",
   "execution_count": 61,
   "id": "4e4209c0",
   "metadata": {},
   "outputs": [
    {
     "data": {
      "text/plain": [
       "array([[2, 3, 4],\n",
       "       [5, 6, 7],\n",
       "       [5, 8, 9]])"
      ]
     },
     "execution_count": 61,
     "metadata": {},
     "output_type": "execute_result"
    }
   ],
   "source": [
    "array1 = np.array([[2,3,4],\n",
    "                   [5,6,7]])\n",
    "\n",
    "array2 = np.array([[5,8,9]])\n",
    "\n",
    "np.concatenate([array1,array2],axis=0)"
   ]
  },
  {
   "cell_type": "markdown",
   "id": "d0f2f606",
   "metadata": {},
   "source": [
    "## Concatenation along columns in matrix"
   ]
  },
  {
   "cell_type": "raw",
   "id": "bc755b8e",
   "metadata": {},
   "source": [
    "# if we are concatenating columns in the matrix then no. of rows has to be same\n",
    "# Axis has to be set to 1 for column appending"
   ]
  },
  {
   "cell_type": "code",
   "execution_count": 63,
   "id": "0abe73c5",
   "metadata": {},
   "outputs": [
    {
     "data": {
      "text/plain": [
       "array([[2, 3, 4, 5],\n",
       "       [5, 6, 7, 0]])"
      ]
     },
     "execution_count": 63,
     "metadata": {},
     "output_type": "execute_result"
    }
   ],
   "source": [
    "array1 = np.array([[2,3,4],\n",
    "                   [5,6,7]])\n",
    "\n",
    "array2 = np.array([[5],\n",
    "                   [0]])\n",
    "\n",
    "np.concatenate([array1,array2],axis=1)"
   ]
  },
  {
   "cell_type": "markdown",
   "id": "be95e061",
   "metadata": {},
   "source": [
    "# Looping on array"
   ]
  },
  {
   "cell_type": "code",
   "execution_count": 64,
   "id": "d38dd81b",
   "metadata": {},
   "outputs": [
    {
     "name": "stdout",
     "output_type": "stream",
     "text": [
      "2\n",
      "3\n",
      "4\n",
      "6\n",
      "7\n"
     ]
    }
   ],
   "source": [
    "array1 = np.array([2,3,4,6,7])\n",
    "for i in array1:\n",
    "    print(i)"
   ]
  },
  {
   "cell_type": "code",
   "execution_count": 65,
   "id": "e093c94d",
   "metadata": {},
   "outputs": [
    {
     "name": "stdout",
     "output_type": "stream",
     "text": [
      "[2 3 4 6 7]\n"
     ]
    }
   ],
   "source": [
    "array1 = np.array([[2,3,4,6,7]])\n",
    "for i in array1:\n",
    "    print(i)"
   ]
  },
  {
   "cell_type": "code",
   "execution_count": 66,
   "id": "837946e9",
   "metadata": {
    "scrolled": true
   },
   "outputs": [
    {
     "name": "stdout",
     "output_type": "stream",
     "text": [
      "0 2\n",
      "1 3\n",
      "2 4\n",
      "3 6\n",
      "4 7\n"
     ]
    }
   ],
   "source": [
    "array1 = np.array([2,3,4,6,7])\n",
    "for i,j in enumerate(array1):\n",
    "    print(i,j)"
   ]
  },
  {
   "cell_type": "code",
   "execution_count": 67,
   "id": "b725df41",
   "metadata": {},
   "outputs": [
    {
     "name": "stdout",
     "output_type": "stream",
     "text": [
      "[2 3 4]\n",
      "[5 6 7]\n",
      "[5 8 9]\n",
      "[0 0 0]\n",
      "\n",
      "0 [2 3 4]\n",
      "1 [5 6 7]\n",
      "2 [5 8 9]\n",
      "3 [0 0 0]\n"
     ]
    }
   ],
   "source": [
    "RRR = np.array([[2, 3, 4],\n",
    "       [5, 6, 7],\n",
    "       [5, 8, 9],\n",
    "       [0, 0, 0]])\n",
    "\n",
    "for i in RRR:\n",
    "    print(i)\n",
    "    \n",
    "print()\n",
    "for i,v in enumerate(RRR):\n",
    "    print(i,v)"
   ]
  },
  {
   "cell_type": "markdown",
   "id": "6804d876",
   "metadata": {},
   "source": [
    "## np.nditer()"
   ]
  },
  {
   "cell_type": "code",
   "execution_count": 68,
   "id": "a113f516",
   "metadata": {},
   "outputs": [
    {
     "name": "stdout",
     "output_type": "stream",
     "text": [
      "2 3 4 5 6 7 5 8 9 0 0 0 "
     ]
    }
   ],
   "source": [
    "import numpy as np\n",
    "\n",
    "RRR = np.array([[2, 3, 4],\n",
    "       [5, 6, 7],\n",
    "       [5, 8, 9],\n",
    "       [0, 0, 0]])\n",
    "\n",
    "for i in np.nditer(RRR):\n",
    "    print(i,end=' ')"
   ]
  },
  {
   "cell_type": "code",
   "execution_count": 69,
   "id": "7aebb4ed",
   "metadata": {},
   "outputs": [
    {
     "name": "stdout",
     "output_type": "stream",
     "text": [
      "2 3 4 5 6 7 5 8 9 0 0 0 "
     ]
    }
   ],
   "source": [
    "for i in (RRR):\n",
    "    for j in range(len(i)):\n",
    "        print(i[j],end=' ')"
   ]
  },
  {
   "cell_type": "markdown",
   "id": "712a184b",
   "metadata": {},
   "source": [
    "##   np.ndenumerate()"
   ]
  },
  {
   "cell_type": "code",
   "execution_count": 70,
   "id": "eb384040",
   "metadata": {
    "scrolled": true
   },
   "outputs": [
    {
     "data": {
      "text/plain": [
       "array([[2, 3, 4],\n",
       "       [5, 6, 7],\n",
       "       [5, 8, 9],\n",
       "       [0, 0, 0]])"
      ]
     },
     "metadata": {},
     "output_type": "display_data"
    },
    {
     "name": "stdout",
     "output_type": "stream",
     "text": [
      "(0, 0) 2\n",
      "(0, 1) 3\n",
      "(0, 2) 4\n",
      "(1, 0) 5\n",
      "(1, 1) 6\n",
      "(1, 2) 7\n",
      "(2, 0) 5\n",
      "(2, 1) 8\n",
      "(2, 2) 9\n",
      "(3, 0) 0\n",
      "(3, 1) 0\n",
      "(3, 2) 0\n"
     ]
    }
   ],
   "source": [
    "display(RRR)\n",
    "for i,v in np.ndenumerate(RRR):\n",
    "    print(i,v)                         # 0 row 1 column pe 3 value present hai."
   ]
  },
  {
   "cell_type": "markdown",
   "id": "9fbc02fa",
   "metadata": {},
   "source": [
    "# Ceil"
   ]
  },
  {
   "cell_type": "raw",
   "id": "f6f9150b",
   "metadata": {},
   "source": [
    "it will yield out the maximum closest whole number to that decimal number.\n",
    "whole number that is on the right hand side of the decimal number."
   ]
  },
  {
   "cell_type": "code",
   "execution_count": 71,
   "id": "264bf83b",
   "metadata": {},
   "outputs": [],
   "source": [
    "import numpy as np"
   ]
  },
  {
   "cell_type": "code",
   "execution_count": 72,
   "id": "b3594d23",
   "metadata": {},
   "outputs": [
    {
     "data": {
      "text/plain": [
       "3.0"
      ]
     },
     "execution_count": 72,
     "metadata": {},
     "output_type": "execute_result"
    }
   ],
   "source": [
    "a = 2.4\n",
    "np.ceil(a)"
   ]
  },
  {
   "cell_type": "code",
   "execution_count": 73,
   "id": "06298a5e",
   "metadata": {},
   "outputs": [
    {
     "data": {
      "text/plain": [
       "3.0"
      ]
     },
     "execution_count": 73,
     "metadata": {},
     "output_type": "execute_result"
    }
   ],
   "source": [
    "a = 2.6\n",
    "np.ceil(a)"
   ]
  },
  {
   "cell_type": "code",
   "execution_count": 74,
   "id": "c10e8e86",
   "metadata": {},
   "outputs": [
    {
     "data": {
      "text/plain": [
       "-2.0"
      ]
     },
     "execution_count": 74,
     "metadata": {},
     "output_type": "execute_result"
    }
   ],
   "source": [
    "a = -2.46\n",
    "np.ceil(a)"
   ]
  },
  {
   "cell_type": "markdown",
   "id": "1f0c9e0b",
   "metadata": {},
   "source": [
    "# floor"
   ]
  },
  {
   "cell_type": "raw",
   "id": "93b6cd8b",
   "metadata": {},
   "source": [
    "floor will yield the smallest whole number closest to the decimal number"
   ]
  },
  {
   "cell_type": "code",
   "execution_count": 75,
   "id": "2c4544e3",
   "metadata": {},
   "outputs": [
    {
     "data": {
      "text/plain": [
       "2.0"
      ]
     },
     "execution_count": 75,
     "metadata": {},
     "output_type": "execute_result"
    }
   ],
   "source": [
    "a=2.6\n",
    "np.floor(a)"
   ]
  },
  {
   "cell_type": "code",
   "execution_count": 76,
   "id": "5f43d3f9",
   "metadata": {},
   "outputs": [
    {
     "data": {
      "text/plain": [
       "-3.0"
      ]
     },
     "execution_count": 76,
     "metadata": {},
     "output_type": "execute_result"
    }
   ],
   "source": [
    "a=-2.4\n",
    "np.floor(a)"
   ]
  },
  {
   "cell_type": "markdown",
   "id": "cbcd66ab",
   "metadata": {},
   "source": [
    "#  around()"
   ]
  },
  {
   "cell_type": "code",
   "execution_count": null,
   "id": "cdcf829b",
   "metadata": {},
   "outputs": [],
   "source": [
    "works exactly in same way as that of round function only difference is \n",
    "1) around() do not change datatype of number\n",
    "2) around() function can be used for an array."
   ]
  },
  {
   "cell_type": "code",
   "execution_count": 77,
   "id": "be084fe5",
   "metadata": {},
   "outputs": [
    {
     "data": {
      "text/plain": [
       "(2, 3, 2)"
      ]
     },
     "execution_count": 77,
     "metadata": {},
     "output_type": "execute_result"
    }
   ],
   "source": [
    "# round function\n",
    "\n",
    "round(2.4) , round(2.6) , round(2.5)"
   ]
  },
  {
   "cell_type": "code",
   "execution_count": 78,
   "id": "6f1cdb59",
   "metadata": {},
   "outputs": [
    {
     "data": {
      "text/plain": [
       "(2.48, 2.55)"
      ]
     },
     "execution_count": 78,
     "metadata": {},
     "output_type": "execute_result"
    }
   ],
   "source": [
    "# round function\n",
    "\n",
    "round(2.4846,2) , round(2.54844,2)"
   ]
  },
  {
   "cell_type": "code",
   "execution_count": 79,
   "id": "4e8c8e93",
   "metadata": {},
   "outputs": [
    {
     "data": {
      "text/plain": [
       "(2.0, 3.0, 2.0)"
      ]
     },
     "execution_count": 79,
     "metadata": {},
     "output_type": "execute_result"
    }
   ],
   "source": [
    "np.around(2.4) , np.around(2.6) , np.around(2.5)   # note that output is also in float unlike round function "
   ]
  },
  {
   "cell_type": "code",
   "execution_count": 80,
   "id": "0d5a8d7a",
   "metadata": {},
   "outputs": [
    {
     "data": {
      "text/plain": [
       "(2.48, 2.55)"
      ]
     },
     "execution_count": 80,
     "metadata": {},
     "output_type": "execute_result"
    }
   ],
   "source": [
    "np.around(2.4846,2) , np.round(2.54844,2)"
   ]
  },
  {
   "cell_type": "code",
   "execution_count": 81,
   "id": "a722c301",
   "metadata": {},
   "outputs": [
    {
     "data": {
      "text/plain": [
       "array([[-2.,  8.],\n",
       "       [ 6., -3.]])"
      ]
     },
     "execution_count": 81,
     "metadata": {},
     "output_type": "execute_result"
    }
   ],
   "source": [
    "a = np.array([[-2.46,7.8],\n",
    "              [5.67,-2.57]])\n",
    "np.around(a)"
   ]
  },
  {
   "cell_type": "code",
   "execution_count": 82,
   "id": "cf70c413",
   "metadata": {},
   "outputs": [
    {
     "data": {
      "text/plain": [
       "array([[-2.47,  7.86],\n",
       "       [ 5.67, -2.58]])"
      ]
     },
     "execution_count": 82,
     "metadata": {},
     "output_type": "execute_result"
    }
   ],
   "source": [
    "a = np.array([[-2.46678,7.85687],\n",
    "              [5.671224,-2.5778970]])\n",
    "np.around(a,2)"
   ]
  },
  {
   "cell_type": "markdown",
   "id": "4928e9bf",
   "metadata": {},
   "source": [
    "# copy"
   ]
  },
  {
   "cell_type": "raw",
   "id": "e1efb197",
   "metadata": {},
   "source": [
    "copy works same as deepcopy "
   ]
  },
  {
   "cell_type": "code",
   "execution_count": 84,
   "id": "45c26bb9",
   "metadata": {},
   "outputs": [
    {
     "name": "stdout",
     "output_type": "stream",
     "text": [
      "[0 4 6 8] [2 4 6 8]\n"
     ]
    }
   ],
   "source": [
    "array1 = np.array([2,4,6,8])\n",
    "array2 = np.copy(array1)\n",
    "\n",
    "array2[0]=0\n",
    "print(array2,array1)"
   ]
  },
  {
   "cell_type": "code",
   "execution_count": 85,
   "id": "508d8e63",
   "metadata": {},
   "outputs": [
    {
     "name": "stdout",
     "output_type": "stream",
     "text": [
      "[[2 4]\n",
      " [6 8]]\n",
      "\n",
      "[[0 4]\n",
      " [6 8]]\n"
     ]
    }
   ],
   "source": [
    "array1 = np.array([[2,4],[6,8]])\n",
    "array2 = array1.copy()\n",
    "\n",
    "array1[0][0]=0\n",
    "print(array2)\n",
    "print()\n",
    "print(array1)"
   ]
  },
  {
   "cell_type": "markdown",
   "id": "38260bcf",
   "metadata": {},
   "source": [
    "# np.where (very imp)"
   ]
  },
  {
   "cell_type": "raw",
   "id": "2846a74b",
   "metadata": {},
   "source": [
    "gives the index no of items as output "
   ]
  },
  {
   "cell_type": "code",
   "execution_count": 2,
   "id": "1ba4de64-b7c2-4f75-8ad3-dfe1d4890c21",
   "metadata": {},
   "outputs": [],
   "source": [
    "import numpy as np"
   ]
  },
  {
   "cell_type": "code",
   "execution_count": 4,
   "id": "ca6f63ea",
   "metadata": {},
   "outputs": [],
   "source": [
    "arr = np.array([4,5,6,2,3])    # 5,6 are greater than 4 hence we get index no of 5 and 6 as output.\n",
    "a = np.where(arr>4)"
   ]
  },
  {
   "cell_type": "code",
   "execution_count": 5,
   "id": "b25cbaf8-61a9-4c9a-935d-749c0a584a31",
   "metadata": {},
   "outputs": [
    {
     "data": {
      "text/plain": [
       "(array([1, 2], dtype=int64),)"
      ]
     },
     "execution_count": 5,
     "metadata": {},
     "output_type": "execute_result"
    }
   ],
   "source": [
    "a"
   ]
  },
  {
   "cell_type": "code",
   "execution_count": 8,
   "id": "1f89ef80-5972-4a7a-8e48-2e858853b885",
   "metadata": {},
   "outputs": [
    {
     "data": {
      "text/plain": [
       "array([1, 2], dtype=int64)"
      ]
     },
     "execution_count": 8,
     "metadata": {},
     "output_type": "execute_result"
    }
   ],
   "source": [
    "a[0]"
   ]
  },
  {
   "cell_type": "code",
   "execution_count": 87,
   "id": "cc1be8ae",
   "metadata": {},
   "outputs": [
    {
     "data": {
      "text/plain": [
       "(array([], dtype=int64),)"
      ]
     },
     "execution_count": 87,
     "metadata": {},
     "output_type": "execute_result"
    }
   ],
   "source": [
    "arr = np.array([4,5,6,2,3,4])\n",
    "np.where(arr==1)                    # 1 is not present hence empty output"
   ]
  },
  {
   "cell_type": "code",
   "execution_count": 88,
   "id": "847878d1",
   "metadata": {},
   "outputs": [
    {
     "data": {
      "text/plain": [
       "[0, 1, 3, 4, 5]"
      ]
     },
     "execution_count": 88,
     "metadata": {},
     "output_type": "execute_result"
    }
   ],
   "source": [
    "l1 = [4,5,6,2,3,4]\n",
    "[index for index,value in enumerate(l1) if value < 6]"
   ]
  },
  {
   "cell_type": "code",
   "execution_count": 89,
   "id": "0ce3cb23",
   "metadata": {},
   "outputs": [
    {
     "data": {
      "text/plain": [
       "(array([1, 4], dtype=int64),)"
      ]
     },
     "execution_count": 89,
     "metadata": {},
     "output_type": "execute_result"
    }
   ],
   "source": [
    "arr = np.array([4,5,6,2,3,4])         # only 5,3 is odd.\n",
    "np.where(arr%2==1)"
   ]
  },
  {
   "cell_type": "markdown",
   "id": "b5ade19c",
   "metadata": {},
   "source": [
    "## use of np.where to replace the values that does not meet the given condition in array"
   ]
  },
  {
   "cell_type": "code",
   "execution_count": 91,
   "id": "53a52e62",
   "metadata": {},
   "outputs": [
    {
     "data": {
      "text/plain": [
       "array([100,   5, 100, 100,   3, 100])"
      ]
     },
     "execution_count": 91,
     "metadata": {},
     "output_type": "execute_result"
    }
   ],
   "source": [
    "arr = np.array([4,5,6,2,3,4])\n",
    "arr=np.where(arr%2==1,arr,100)\n",
    "arr"
   ]
  },
  {
   "cell_type": "code",
   "execution_count": 92,
   "id": "0865a4a0",
   "metadata": {},
   "outputs": [
    {
     "data": {
      "text/plain": [
       "array([inf, inf, inf,  2.,  3., inf])"
      ]
     },
     "execution_count": 92,
     "metadata": {},
     "output_type": "execute_result"
    }
   ],
   "source": [
    "arr = np.array([4,5,6,2,3,4])\n",
    "arr=np.where(arr<arr[0],arr,np.inf)\n",
    "arr"
   ]
  },
  {
   "cell_type": "code",
   "execution_count": 93,
   "id": "fddbd4a0",
   "metadata": {},
   "outputs": [
    {
     "data": {
      "text/plain": [
       "array([0, 0, 0, 2, 3, 0])"
      ]
     },
     "execution_count": 93,
     "metadata": {},
     "output_type": "execute_result"
    }
   ],
   "source": [
    "arr = np.array([4,5,6,2,3,4])\n",
    "arr=np.where(arr<arr[0],arr,0)\n",
    "arr"
   ]
  },
  {
   "cell_type": "markdown",
   "id": "ea57fc62",
   "metadata": {},
   "source": [
    "# arg\n"
   ]
  },
  {
   "cell_type": "markdown",
   "id": "4ff05caa",
   "metadata": {},
   "source": [
    "### argmax >> returns the index of the maximum number in the array"
   ]
  },
  {
   "cell_type": "code",
   "execution_count": 94,
   "id": "e52eb43a",
   "metadata": {},
   "outputs": [
    {
     "data": {
      "text/plain": [
       "3"
      ]
     },
     "execution_count": 94,
     "metadata": {},
     "output_type": "execute_result"
    }
   ],
   "source": [
    "A = [2,3,6,9,1]\n",
    "\n",
    "np.argmax(A)"
   ]
  },
  {
   "cell_type": "markdown",
   "id": "5154720c",
   "metadata": {},
   "source": [
    "### argmin >> returns the index of the minimum number in the array"
   ]
  },
  {
   "cell_type": "code",
   "execution_count": 95,
   "id": "ccdde913",
   "metadata": {},
   "outputs": [
    {
     "data": {
      "text/plain": [
       "4"
      ]
     },
     "execution_count": 95,
     "metadata": {},
     "output_type": "execute_result"
    }
   ],
   "source": [
    "A = [2,3,6,9,1]\n",
    "\n",
    "np.argmin(A)"
   ]
  },
  {
   "cell_type": "markdown",
   "id": "a047884e",
   "metadata": {},
   "source": [
    "###  argsort >> returns the indexes of the sorted array\n"
   ]
  },
  {
   "cell_type": "code",
   "execution_count": 96,
   "id": "e4b6d6cb-b2a9-43bc-ad7f-ea390046238f",
   "metadata": {},
   "outputs": [
    {
     "data": {
      "text/plain": [
       "array([4, 0, 1, 2, 3], dtype=int64)"
      ]
     },
     "execution_count": 96,
     "metadata": {},
     "output_type": "execute_result"
    }
   ],
   "source": [
    "A = [2,3,6,9,1]\n",
    "\n",
    "np.argsort(A)"
   ]
  },
  {
   "cell_type": "markdown",
   "id": "61799d0a",
   "metadata": {},
   "source": [
    "# size"
   ]
  },
  {
   "cell_type": "raw",
   "id": "74d853b9",
   "metadata": {},
   "source": [
    "gives total number of elements in the array or matrix"
   ]
  },
  {
   "cell_type": "code",
   "execution_count": 97,
   "id": "c037d4fe",
   "metadata": {},
   "outputs": [
    {
     "data": {
      "text/plain": [
       "5"
      ]
     },
     "execution_count": 97,
     "metadata": {},
     "output_type": "execute_result"
    }
   ],
   "source": [
    "A = [2,3,6,9,1]\n",
    "np.size(A)"
   ]
  },
  {
   "cell_type": "code",
   "execution_count": 98,
   "id": "840f4b43",
   "metadata": {},
   "outputs": [
    {
     "data": {
      "text/plain": [
       "6"
      ]
     },
     "execution_count": 98,
     "metadata": {},
     "output_type": "execute_result"
    }
   ],
   "source": [
    "B = [[2,3,4],[5,6,6]]\n",
    "np.size(B)"
   ]
  },
  {
   "cell_type": "markdown",
   "id": "a5100aee",
   "metadata": {},
   "source": [
    "# aggregate functions"
   ]
  },
  {
   "cell_type": "raw",
   "id": "c33f751d",
   "metadata": {},
   "source": [
    "min\n",
    "max\n",
    "sum\n",
    "mean\n",
    "median\n",
    "mode --- most repeating number.\n",
    "std ( standard deviation)\n",
    "var (variance)"
   ]
  },
  {
   "cell_type": "code",
   "execution_count": 99,
   "id": "3eea7836",
   "metadata": {},
   "outputs": [
    {
     "name": "stdout",
     "output_type": "stream",
     "text": [
      "1\n",
      "9\n",
      "21\n"
     ]
    }
   ],
   "source": [
    "a = [2,3,6,9,1]\n",
    "print(min(a))\n",
    "print(max(a))\n",
    "print(sum(a))"
   ]
  },
  {
   "cell_type": "code",
   "execution_count": 100,
   "id": "371f4eff",
   "metadata": {},
   "outputs": [
    {
     "name": "stdout",
     "output_type": "stream",
     "text": [
      "3.0\n",
      "3.0\n",
      "1.5811388300841898\n",
      "2.5\n"
     ]
    }
   ],
   "source": [
    "A = [1,2,4,5]\n",
    "print(np.mean(A))\n",
    "print(np.median(A))\n",
    "print(np.std(A))\n",
    "print(np.var(A))"
   ]
  },
  {
   "cell_type": "markdown",
   "id": "30d8e113",
   "metadata": {},
   "source": [
    "# mathematical operations on Array"
   ]
  },
  {
   "cell_type": "code",
   "execution_count": 101,
   "id": "72814924",
   "metadata": {},
   "outputs": [
    {
     "data": {
      "text/plain": [
       "array([2, 3, 6, 9, 1, 2])"
      ]
     },
     "execution_count": 101,
     "metadata": {},
     "output_type": "execute_result"
    }
   ],
   "source": [
    "array = np.array([2,3,6,9,1,2])\n",
    "array"
   ]
  },
  {
   "cell_type": "code",
   "execution_count": 102,
   "id": "118eb003",
   "metadata": {},
   "outputs": [
    {
     "data": {
      "text/plain": [
       "array([ 2,  4, 12, 11,  4,  8])"
      ]
     },
     "execution_count": 102,
     "metadata": {},
     "output_type": "execute_result"
    }
   ],
   "source": [
    "array1 = np.array([2,3,6,9,1,2])\n",
    "array2 = np.array([0,1,6,2,3,6])\n",
    "\n",
    "array1+array2"
   ]
  },
  {
   "cell_type": "code",
   "execution_count": null,
   "id": "e0276b39-4f9b-49e4-a3de-c0be360cfea9",
   "metadata": {},
   "outputs": [],
   "source": [
    "addiion,subtraction,sq,mul,div,floor div,remainder"
   ]
  },
  {
   "cell_type": "code",
   "execution_count": 103,
   "id": "f15f6e8b",
   "metadata": {},
   "outputs": [
    {
     "data": {
      "text/plain": [
       "array([2, 3, 6, 9, 1, 2])"
      ]
     },
     "execution_count": 103,
     "metadata": {},
     "output_type": "execute_result"
    }
   ],
   "source": [
    "array "
   ]
  },
  {
   "cell_type": "code",
   "execution_count": 104,
   "id": "5091bf53",
   "metadata": {},
   "outputs": [
    {
     "data": {
      "text/plain": [
       "array([12, 13, 16, 19, 11, 12])"
      ]
     },
     "execution_count": 104,
     "metadata": {},
     "output_type": "execute_result"
    }
   ],
   "source": [
    "array +10"
   ]
  },
  {
   "cell_type": "code",
   "execution_count": 105,
   "id": "7a59996f",
   "metadata": {
    "scrolled": true
   },
   "outputs": [
    {
     "data": {
      "text/plain": [
       "[2, 3, 4, 10]"
      ]
     },
     "execution_count": 105,
     "metadata": {},
     "output_type": "execute_result"
    }
   ],
   "source": [
    "# list addition is different from array addition.\n",
    "\n",
    "[2,3,4]+[10] "
   ]
  },
  {
   "cell_type": "markdown",
   "id": "ba9b7c9f",
   "metadata": {},
   "source": [
    "# matrix dot product"
   ]
  },
  {
   "cell_type": "raw",
   "id": "b88858ef",
   "metadata": {},
   "source": [
    "for matrix dot product : number of columns of first matrix should be equal to number of rows of 2nd matrix"
   ]
  },
  {
   "cell_type": "code",
   "execution_count": 106,
   "id": "beff1c07",
   "metadata": {},
   "outputs": [
    {
     "data": {
      "text/plain": [
       "array([[ 57,  18],\n",
       "       [107,  30]])"
      ]
     },
     "execution_count": 106,
     "metadata": {},
     "output_type": "execute_result"
    }
   ],
   "source": [
    "arr1 = np.array([[3,4],\n",
    "                 [5,8]])\n",
    "\n",
    "arr2 = np.array([[7,6],\n",
    "                 [9,0]])\n",
    "\n",
    "np.dot(arr1,arr2)\n",
    "\n",
    "# 3*7+4*9    3*6+4*0\n",
    "# 5*7+8*9    5*6+8*0"
   ]
  },
  {
   "cell_type": "code",
   "execution_count": 107,
   "id": "9323b4a7",
   "metadata": {},
   "outputs": [
    {
     "data": {
      "text/plain": [
       "array([[48, 18, 11],\n",
       "       [65, 30, 15],\n",
       "       [ 9,  0,  2]])"
      ]
     },
     "execution_count": 107,
     "metadata": {},
     "output_type": "execute_result"
    }
   ],
   "source": [
    "arr1 = np.array([[3,4],\n",
    "                 [5,5],\n",
    "                 [0,1]])\n",
    "\n",
    "arr2 = np.array([[4,6,1],\n",
    "                 [9,0,2]])\n",
    "\n",
    "np.dot(arr1,arr2)"
   ]
  },
  {
   "cell_type": "code",
   "execution_count": 108,
   "id": "270defc9",
   "metadata": {
    "scrolled": true
   },
   "outputs": [
    {
     "ename": "ValueError",
     "evalue": "shapes (2,2) and (3,2) not aligned: 2 (dim 1) != 3 (dim 0)",
     "output_type": "error",
     "traceback": [
      "\u001b[1;31m---------------------------------------------------------------------------\u001b[0m",
      "\u001b[1;31mValueError\u001b[0m                                Traceback (most recent call last)",
      "Cell \u001b[1;32mIn[108], line 8\u001b[0m\n\u001b[0;32m      1\u001b[0m arr1 \u001b[38;5;241m=\u001b[39m np\u001b[38;5;241m.\u001b[39marray([[\u001b[38;5;241m3\u001b[39m,\u001b[38;5;241m4\u001b[39m],\n\u001b[0;32m      2\u001b[0m                  [\u001b[38;5;241m5\u001b[39m,\u001b[38;5;241m5\u001b[39m],\n\u001b[0;32m      3\u001b[0m                  [\u001b[38;5;241m0\u001b[39m,\u001b[38;5;241m1\u001b[39m]])\n\u001b[0;32m      5\u001b[0m arr2 \u001b[38;5;241m=\u001b[39m np\u001b[38;5;241m.\u001b[39marray([[\u001b[38;5;241m4\u001b[39m,\u001b[38;5;241m6\u001b[39m],\n\u001b[0;32m      6\u001b[0m                  [\u001b[38;5;241m9\u001b[39m,\u001b[38;5;241m0\u001b[39m]])\n\u001b[1;32m----> 8\u001b[0m \u001b[43mnp\u001b[49m\u001b[38;5;241;43m.\u001b[39;49m\u001b[43mdot\u001b[49m\u001b[43m(\u001b[49m\u001b[43marr2\u001b[49m\u001b[43m,\u001b[49m\u001b[43marr1\u001b[49m\u001b[43m)\u001b[49m         \n",
      "\u001b[1;31mValueError\u001b[0m: shapes (2,2) and (3,2) not aligned: 2 (dim 1) != 3 (dim 0)"
     ]
    }
   ],
   "source": [
    "arr1 = np.array([[3,4],\n",
    "                 [5,5],\n",
    "                 [0,1]])\n",
    "\n",
    "arr2 = np.array([[4,6],\n",
    "                 [9,0]])\n",
    "\n",
    "np.dot(arr2,arr1)         "
   ]
  },
  {
   "cell_type": "markdown",
   "id": "4b953257",
   "metadata": {},
   "source": [
    "# log function"
   ]
  },
  {
   "cell_type": "code",
   "execution_count": 109,
   "id": "3877fd9c",
   "metadata": {},
   "outputs": [
    {
     "data": {
      "text/plain": [
       "1.0"
      ]
     },
     "execution_count": 109,
     "metadata": {},
     "output_type": "execute_result"
    }
   ],
   "source": [
    "np.log(np.exp(1))   # Natural log is set to base e"
   ]
  },
  {
   "cell_type": "code",
   "execution_count": 110,
   "id": "aa69933e",
   "metadata": {},
   "outputs": [
    {
     "data": {
      "text/plain": [
       "0.0"
      ]
     },
     "execution_count": 110,
     "metadata": {},
     "output_type": "execute_result"
    }
   ],
   "source": [
    "np.log(1)"
   ]
  },
  {
   "cell_type": "code",
   "execution_count": 111,
   "id": "4f409faa",
   "metadata": {},
   "outputs": [
    {
     "data": {
      "text/plain": [
       "1.0"
      ]
     },
     "execution_count": 111,
     "metadata": {},
     "output_type": "execute_result"
    }
   ],
   "source": [
    "np.log(2.718281828459045)       # value of e is 2.718281828459045"
   ]
  },
  {
   "cell_type": "raw",
   "id": "10a4795c",
   "metadata": {},
   "source": [
    "import image "
   ]
  },
  {
   "cell_type": "code",
   "execution_count": 112,
   "id": "e8c8e070",
   "metadata": {},
   "outputs": [
    {
     "data": {
      "text/plain": [
       "0.0"
      ]
     },
     "execution_count": 112,
     "metadata": {},
     "output_type": "execute_result"
    }
   ],
   "source": [
    "np.log10(1)    # here base is 10"
   ]
  },
  {
   "cell_type": "code",
   "execution_count": 113,
   "id": "6181d5b0",
   "metadata": {},
   "outputs": [
    {
     "data": {
      "text/plain": [
       "1.0"
      ]
     },
     "execution_count": 113,
     "metadata": {},
     "output_type": "execute_result"
    }
   ],
   "source": [
    "np.log10(10)"
   ]
  },
  {
   "cell_type": "code",
   "execution_count": 114,
   "id": "fb4c653d",
   "metadata": {},
   "outputs": [
    {
     "data": {
      "text/plain": [
       "2.0"
      ]
     },
     "execution_count": 114,
     "metadata": {},
     "output_type": "execute_result"
    }
   ],
   "source": [
    "np.log10(100)"
   ]
  },
  {
   "cell_type": "code",
   "execution_count": 115,
   "id": "ab31930e",
   "metadata": {},
   "outputs": [
    {
     "data": {
      "text/plain": [
       "1.0"
      ]
     },
     "execution_count": 115,
     "metadata": {},
     "output_type": "execute_result"
    }
   ],
   "source": [
    "np.log2(2)"
   ]
  },
  {
   "cell_type": "code",
   "execution_count": 116,
   "id": "5e4154d4",
   "metadata": {},
   "outputs": [
    {
     "data": {
      "text/plain": [
       "0.0"
      ]
     },
     "execution_count": 116,
     "metadata": {},
     "output_type": "execute_result"
    }
   ],
   "source": [
    "np.log2(1)"
   ]
  },
  {
   "cell_type": "markdown",
   "id": "99b2c7c3",
   "metadata": {},
   "source": [
    "# Trignometry"
   ]
  },
  {
   "cell_type": "code",
   "execution_count": null,
   "id": "2999d6d1",
   "metadata": {},
   "outputs": [],
   "source": [
    "np.degres()             --- gives answer in degrees\n",
    "np.sin(),np.cos() etc.  --- gives answer in radian \n"
   ]
  },
  {
   "cell_type": "raw",
   "id": "c295b16f",
   "metadata": {},
   "source": [
    "sin >> opp/hyp\n",
    "cos >> Adj/hyp\n",
    "tan >> opp/adj\n",
    "\n",
    "cosec >> hyp/opp\n",
    "sec >> hyp/adj\n",
    "cot >> adj/opp"
   ]
  },
  {
   "cell_type": "code",
   "execution_count": 117,
   "id": "2680f532",
   "metadata": {},
   "outputs": [
    {
     "data": {
      "text/plain": [
       "3.141592653589793"
      ]
     },
     "execution_count": 117,
     "metadata": {},
     "output_type": "execute_result"
    }
   ],
   "source": [
    "np.pi"
   ]
  },
  {
   "cell_type": "code",
   "execution_count": 118,
   "id": "9fdd1e5d",
   "metadata": {},
   "outputs": [
    {
     "data": {
      "text/plain": [
       "0.49999999999999994"
      ]
     },
     "execution_count": 118,
     "metadata": {},
     "output_type": "execute_result"
    }
   ],
   "source": [
    "# np.sin(radian value)\n",
    "\n",
    "np.sin(np.pi/6)"
   ]
  },
  {
   "cell_type": "code",
   "execution_count": 119,
   "id": "bb1b6d32",
   "metadata": {},
   "outputs": [
    {
     "data": {
      "text/plain": [
       "0.49999999999999994"
      ]
     },
     "execution_count": 119,
     "metadata": {},
     "output_type": "execute_result"
    }
   ],
   "source": [
    "np.sin(np.deg2rad(30))  # np.deg2rad(30) converts 30 degree to radian"
   ]
  },
  {
   "cell_type": "code",
   "execution_count": 120,
   "id": "ef9a6432",
   "metadata": {},
   "outputs": [
    {
     "data": {
      "text/plain": [
       "0.49999999999999994"
      ]
     },
     "execution_count": 120,
     "metadata": {},
     "output_type": "execute_result"
    }
   ],
   "source": [
    "np.sin(np.radians(30))  #  np.radians(30) converts 30 degree to radian"
   ]
  },
  {
   "cell_type": "code",
   "execution_count": 121,
   "id": "b4d38d69",
   "metadata": {
    "scrolled": true
   },
   "outputs": [
    {
     "data": {
      "text/plain": [
       "29.999999999999996"
      ]
     },
     "execution_count": 121,
     "metadata": {},
     "output_type": "execute_result"
    }
   ],
   "source": [
    "np.degrees(np.pi/6)  # we get answer in degrees."
   ]
  },
  {
   "cell_type": "code",
   "execution_count": 122,
   "id": "a347ff83",
   "metadata": {},
   "outputs": [
    {
     "data": {
      "text/plain": [
       "29.999999999999996"
      ]
     },
     "execution_count": 122,
     "metadata": {},
     "output_type": "execute_result"
    }
   ],
   "source": [
    "np.degrees(np.deg2rad(30)) # we get answer in degrees."
   ]
  },
  {
   "cell_type": "code",
   "execution_count": 123,
   "id": "aee265e3",
   "metadata": {},
   "outputs": [
    {
     "data": {
      "text/plain": [
       "29.999999999999996"
      ]
     },
     "execution_count": 123,
     "metadata": {},
     "output_type": "execute_result"
    }
   ],
   "source": [
    "np.rad2deg(np.pi/6) # we get answer in degrees."
   ]
  },
  {
   "cell_type": "code",
   "execution_count": 124,
   "id": "4e7abf71",
   "metadata": {},
   "outputs": [
    {
     "ename": "SyntaxError",
     "evalue": "invalid syntax (2332914769.py, line 3)",
     "output_type": "error",
     "traceback": [
      "\u001b[1;36m  Cell \u001b[1;32mIn[124], line 3\u001b[1;36m\u001b[0m\n\u001b[1;33m    opp = ?   ans. -17.3205\u001b[0m\n\u001b[1;37m          ^\u001b[0m\n\u001b[1;31mSyntaxError\u001b[0m\u001b[1;31m:\u001b[0m invalid syntax\n"
     ]
    }
   ],
   "source": [
    "angle = 120\n",
    "adj = 10\n",
    "opp = ?   ans. -17.3205"
   ]
  },
  {
   "cell_type": "code",
   "execution_count": 125,
   "id": "72ef915d",
   "metadata": {
    "scrolled": true
   },
   "outputs": [
    {
     "data": {
      "text/plain": [
       "-17.32050807568878"
      ]
     },
     "execution_count": 125,
     "metadata": {},
     "output_type": "execute_result"
    }
   ],
   "source": [
    "np.tan(np.radians(120))*10     "
   ]
  }
 ],
 "metadata": {
  "kernelspec": {
   "display_name": "Python 3 (ipykernel)",
   "language": "python",
   "name": "python3"
  },
  "language_info": {
   "codemirror_mode": {
    "name": "ipython",
    "version": 3
   },
   "file_extension": ".py",
   "mimetype": "text/x-python",
   "name": "python",
   "nbconvert_exporter": "python",
   "pygments_lexer": "ipython3",
   "version": "3.11.4"
  },
  "toc": {
   "base_numbering": 1,
   "nav_menu": {},
   "number_sections": true,
   "sideBar": true,
   "skip_h1_title": false,
   "title_cell": "Table of Contents",
   "title_sidebar": "Contents",
   "toc_cell": false,
   "toc_position": {},
   "toc_section_display": true,
   "toc_window_display": false
  },
  "varInspector": {
   "cols": {
    "lenName": 16,
    "lenType": 16,
    "lenVar": 40
   },
   "kernels_config": {
    "python": {
     "delete_cmd_postfix": "",
     "delete_cmd_prefix": "del ",
     "library": "var_list.py",
     "varRefreshCmd": "print(var_dic_list())"
    },
    "r": {
     "delete_cmd_postfix": ") ",
     "delete_cmd_prefix": "rm(",
     "library": "var_list.r",
     "varRefreshCmd": "cat(var_dic_list()) "
    }
   },
   "types_to_exclude": [
    "module",
    "function",
    "builtin_function_or_method",
    "instance",
    "_Feature"
   ],
   "window_display": false
  }
 },
 "nbformat": 4,
 "nbformat_minor": 5
}
